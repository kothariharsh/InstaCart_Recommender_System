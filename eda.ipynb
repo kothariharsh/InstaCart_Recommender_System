{
 "cells": [
  {
   "cell_type": "markdown",
   "id": "4e9938ff",
   "metadata": {},
   "source": [
    "# Instacart Market Basket Analysis\n",
    "## Which products will an Instacart consumer purchase again?"
   ]
  },
  {
   "cell_type": "code",
   "execution_count": null,
   "id": "cc475b6b",
   "metadata": {},
   "outputs": [],
   "source": []
  },
  {
   "cell_type": "markdown",
   "id": "34b653ad",
   "metadata": {},
   "source": [
    "### Whether you shop from meticulously planned grocery lists or let whimsy guide your grazing, our unique food rituals define who we are. Instacart, a grocery ordering and delivery app, aims to make it easy to fill your refrigerator and pantry with your personal favorites and staples when you need them. After selecting products through the Instacart app, personal shoppers review your order and do the in-store shopping and delivery for you. Instacart’s data science team plays a big part in providing this delightful shopping experience. Currently they use transactional data to develop models that predict which products a user will buy again, try for the first time, or add to their cart next during a session. Recently, Instacart open sourced this data - see their blog post on 3 Million Instacart Orders, Open Sourced."
   ]
  },
  {
   "cell_type": "markdown",
   "id": "8e162e07",
   "metadata": {},
   "source": [
    "### https://www.kaggle.com/c/instacart-market-basket-analysis/overview"
   ]
  },
  {
   "cell_type": "code",
   "execution_count": null,
   "id": "264031e2",
   "metadata": {},
   "outputs": [],
   "source": []
  },
  {
   "cell_type": "code",
   "execution_count": null,
   "id": "f16afd04",
   "metadata": {},
   "outputs": [],
   "source": []
  },
  {
   "cell_type": "code",
   "execution_count": null,
   "id": "683a3ba9",
   "metadata": {},
   "outputs": [],
   "source": []
  },
  {
   "cell_type": "markdown",
   "id": "9e05160f",
   "metadata": {},
   "source": [
    "## Import Required Libraries for EDA"
   ]
  },
  {
   "cell_type": "code",
   "execution_count": 1,
   "id": "4be26d27",
   "metadata": {},
   "outputs": [],
   "source": [
    "import pandas as pd\n",
    "import numpy as np\n",
    "import matplotlib.pyplot as plt\n",
    "import seaborn as sns\n",
    "color = sns.color_palette()\n",
    "\n",
    "%matplotlib inline"
   ]
  },
  {
   "cell_type": "code",
   "execution_count": null,
   "id": "3e474f50",
   "metadata": {},
   "outputs": [],
   "source": []
  },
  {
   "cell_type": "markdown",
   "id": "99029ce2",
   "metadata": {},
   "source": [
    "## Import all the required files to start the Analysis"
   ]
  },
  {
   "cell_type": "code",
   "execution_count": 2,
   "id": "3797103b",
   "metadata": {},
   "outputs": [],
   "source": [
    "orders= pd.read_csv(\"Data/orders.csv\")\n",
    "aisles=pd.read_csv(\"Data/aisles.csv\")\n",
    "product_priors=pd.read_csv(\"Data/order_products__prior.csv\")\n",
    "product_train=pd.read_csv(\"Data/order_products__train.csv\")\n",
    "dept=pd.read_csv(\"Data/departments.csv\")\n",
    "products=pd.read_csv(\"Data/products.csv\")"
   ]
  },
  {
   "cell_type": "code",
   "execution_count": null,
   "id": "ea534cc5",
   "metadata": {},
   "outputs": [],
   "source": []
  },
  {
   "cell_type": "code",
   "execution_count": 3,
   "id": "c5f6d33b",
   "metadata": {},
   "outputs": [
    {
     "data": {
      "text/html": [
       "<div>\n",
       "<style scoped>\n",
       "    .dataframe tbody tr th:only-of-type {\n",
       "        vertical-align: middle;\n",
       "    }\n",
       "\n",
       "    .dataframe tbody tr th {\n",
       "        vertical-align: top;\n",
       "    }\n",
       "\n",
       "    .dataframe thead th {\n",
       "        text-align: right;\n",
       "    }\n",
       "</style>\n",
       "<table border=\"1\" class=\"dataframe\">\n",
       "  <thead>\n",
       "    <tr style=\"text-align: right;\">\n",
       "      <th></th>\n",
       "      <th>order_id</th>\n",
       "      <th>user_id</th>\n",
       "      <th>eval_set</th>\n",
       "      <th>order_number</th>\n",
       "      <th>order_dow</th>\n",
       "      <th>order_hour_of_day</th>\n",
       "      <th>days_since_prior_order</th>\n",
       "    </tr>\n",
       "  </thead>\n",
       "  <tbody>\n",
       "    <tr>\n",
       "      <th>0</th>\n",
       "      <td>2539329</td>\n",
       "      <td>1</td>\n",
       "      <td>prior</td>\n",
       "      <td>1</td>\n",
       "      <td>2</td>\n",
       "      <td>8</td>\n",
       "      <td>NaN</td>\n",
       "    </tr>\n",
       "    <tr>\n",
       "      <th>1</th>\n",
       "      <td>2398795</td>\n",
       "      <td>1</td>\n",
       "      <td>prior</td>\n",
       "      <td>2</td>\n",
       "      <td>3</td>\n",
       "      <td>7</td>\n",
       "      <td>15.0</td>\n",
       "    </tr>\n",
       "    <tr>\n",
       "      <th>2</th>\n",
       "      <td>473747</td>\n",
       "      <td>1</td>\n",
       "      <td>prior</td>\n",
       "      <td>3</td>\n",
       "      <td>3</td>\n",
       "      <td>12</td>\n",
       "      <td>21.0</td>\n",
       "    </tr>\n",
       "    <tr>\n",
       "      <th>3</th>\n",
       "      <td>2254736</td>\n",
       "      <td>1</td>\n",
       "      <td>prior</td>\n",
       "      <td>4</td>\n",
       "      <td>4</td>\n",
       "      <td>7</td>\n",
       "      <td>29.0</td>\n",
       "    </tr>\n",
       "    <tr>\n",
       "      <th>4</th>\n",
       "      <td>431534</td>\n",
       "      <td>1</td>\n",
       "      <td>prior</td>\n",
       "      <td>5</td>\n",
       "      <td>4</td>\n",
       "      <td>15</td>\n",
       "      <td>28.0</td>\n",
       "    </tr>\n",
       "  </tbody>\n",
       "</table>\n",
       "</div>"
      ],
      "text/plain": [
       "   order_id  user_id eval_set  order_number  order_dow  order_hour_of_day  \\\n",
       "0   2539329        1    prior             1          2                  8   \n",
       "1   2398795        1    prior             2          3                  7   \n",
       "2    473747        1    prior             3          3                 12   \n",
       "3   2254736        1    prior             4          4                  7   \n",
       "4    431534        1    prior             5          4                 15   \n",
       "\n",
       "   days_since_prior_order  \n",
       "0                     NaN  \n",
       "1                    15.0  \n",
       "2                    21.0  \n",
       "3                    29.0  \n",
       "4                    28.0  "
      ]
     },
     "execution_count": 3,
     "metadata": {},
     "output_type": "execute_result"
    }
   ],
   "source": [
    "orders.head()"
   ]
  },
  {
   "cell_type": "code",
   "execution_count": 4,
   "id": "9f9b4699",
   "metadata": {},
   "outputs": [
    {
     "data": {
      "text/html": [
       "<div>\n",
       "<style scoped>\n",
       "    .dataframe tbody tr th:only-of-type {\n",
       "        vertical-align: middle;\n",
       "    }\n",
       "\n",
       "    .dataframe tbody tr th {\n",
       "        vertical-align: top;\n",
       "    }\n",
       "\n",
       "    .dataframe thead th {\n",
       "        text-align: right;\n",
       "    }\n",
       "</style>\n",
       "<table border=\"1\" class=\"dataframe\">\n",
       "  <thead>\n",
       "    <tr style=\"text-align: right;\">\n",
       "      <th></th>\n",
       "      <th>aisle_id</th>\n",
       "      <th>aisle</th>\n",
       "    </tr>\n",
       "  </thead>\n",
       "  <tbody>\n",
       "    <tr>\n",
       "      <th>0</th>\n",
       "      <td>1</td>\n",
       "      <td>prepared soups salads</td>\n",
       "    </tr>\n",
       "    <tr>\n",
       "      <th>1</th>\n",
       "      <td>2</td>\n",
       "      <td>specialty cheeses</td>\n",
       "    </tr>\n",
       "    <tr>\n",
       "      <th>2</th>\n",
       "      <td>3</td>\n",
       "      <td>energy granola bars</td>\n",
       "    </tr>\n",
       "    <tr>\n",
       "      <th>3</th>\n",
       "      <td>4</td>\n",
       "      <td>instant foods</td>\n",
       "    </tr>\n",
       "    <tr>\n",
       "      <th>4</th>\n",
       "      <td>5</td>\n",
       "      <td>marinades meat preparation</td>\n",
       "    </tr>\n",
       "  </tbody>\n",
       "</table>\n",
       "</div>"
      ],
      "text/plain": [
       "   aisle_id                       aisle\n",
       "0         1       prepared soups salads\n",
       "1         2           specialty cheeses\n",
       "2         3         energy granola bars\n",
       "3         4               instant foods\n",
       "4         5  marinades meat preparation"
      ]
     },
     "execution_count": 4,
     "metadata": {},
     "output_type": "execute_result"
    }
   ],
   "source": [
    "aisles.head()"
   ]
  },
  {
   "cell_type": "code",
   "execution_count": 5,
   "id": "9581a801",
   "metadata": {},
   "outputs": [
    {
     "data": {
      "text/html": [
       "<div>\n",
       "<style scoped>\n",
       "    .dataframe tbody tr th:only-of-type {\n",
       "        vertical-align: middle;\n",
       "    }\n",
       "\n",
       "    .dataframe tbody tr th {\n",
       "        vertical-align: top;\n",
       "    }\n",
       "\n",
       "    .dataframe thead th {\n",
       "        text-align: right;\n",
       "    }\n",
       "</style>\n",
       "<table border=\"1\" class=\"dataframe\">\n",
       "  <thead>\n",
       "    <tr style=\"text-align: right;\">\n",
       "      <th></th>\n",
       "      <th>order_id</th>\n",
       "      <th>product_id</th>\n",
       "      <th>add_to_cart_order</th>\n",
       "      <th>reordered</th>\n",
       "    </tr>\n",
       "  </thead>\n",
       "  <tbody>\n",
       "    <tr>\n",
       "      <th>0</th>\n",
       "      <td>2</td>\n",
       "      <td>33120</td>\n",
       "      <td>1</td>\n",
       "      <td>1</td>\n",
       "    </tr>\n",
       "    <tr>\n",
       "      <th>1</th>\n",
       "      <td>2</td>\n",
       "      <td>28985</td>\n",
       "      <td>2</td>\n",
       "      <td>1</td>\n",
       "    </tr>\n",
       "    <tr>\n",
       "      <th>2</th>\n",
       "      <td>2</td>\n",
       "      <td>9327</td>\n",
       "      <td>3</td>\n",
       "      <td>0</td>\n",
       "    </tr>\n",
       "    <tr>\n",
       "      <th>3</th>\n",
       "      <td>2</td>\n",
       "      <td>45918</td>\n",
       "      <td>4</td>\n",
       "      <td>1</td>\n",
       "    </tr>\n",
       "    <tr>\n",
       "      <th>4</th>\n",
       "      <td>2</td>\n",
       "      <td>30035</td>\n",
       "      <td>5</td>\n",
       "      <td>0</td>\n",
       "    </tr>\n",
       "  </tbody>\n",
       "</table>\n",
       "</div>"
      ],
      "text/plain": [
       "   order_id  product_id  add_to_cart_order  reordered\n",
       "0         2       33120                  1          1\n",
       "1         2       28985                  2          1\n",
       "2         2        9327                  3          0\n",
       "3         2       45918                  4          1\n",
       "4         2       30035                  5          0"
      ]
     },
     "execution_count": 5,
     "metadata": {},
     "output_type": "execute_result"
    }
   ],
   "source": [
    "product_priors.head()"
   ]
  },
  {
   "cell_type": "code",
   "execution_count": 6,
   "id": "3be41b44",
   "metadata": {},
   "outputs": [
    {
     "data": {
      "text/html": [
       "<div>\n",
       "<style scoped>\n",
       "    .dataframe tbody tr th:only-of-type {\n",
       "        vertical-align: middle;\n",
       "    }\n",
       "\n",
       "    .dataframe tbody tr th {\n",
       "        vertical-align: top;\n",
       "    }\n",
       "\n",
       "    .dataframe thead th {\n",
       "        text-align: right;\n",
       "    }\n",
       "</style>\n",
       "<table border=\"1\" class=\"dataframe\">\n",
       "  <thead>\n",
       "    <tr style=\"text-align: right;\">\n",
       "      <th></th>\n",
       "      <th>order_id</th>\n",
       "      <th>product_id</th>\n",
       "      <th>add_to_cart_order</th>\n",
       "      <th>reordered</th>\n",
       "    </tr>\n",
       "  </thead>\n",
       "  <tbody>\n",
       "    <tr>\n",
       "      <th>0</th>\n",
       "      <td>1</td>\n",
       "      <td>49302</td>\n",
       "      <td>1</td>\n",
       "      <td>1</td>\n",
       "    </tr>\n",
       "    <tr>\n",
       "      <th>1</th>\n",
       "      <td>1</td>\n",
       "      <td>11109</td>\n",
       "      <td>2</td>\n",
       "      <td>1</td>\n",
       "    </tr>\n",
       "    <tr>\n",
       "      <th>2</th>\n",
       "      <td>1</td>\n",
       "      <td>10246</td>\n",
       "      <td>3</td>\n",
       "      <td>0</td>\n",
       "    </tr>\n",
       "    <tr>\n",
       "      <th>3</th>\n",
       "      <td>1</td>\n",
       "      <td>49683</td>\n",
       "      <td>4</td>\n",
       "      <td>0</td>\n",
       "    </tr>\n",
       "    <tr>\n",
       "      <th>4</th>\n",
       "      <td>1</td>\n",
       "      <td>43633</td>\n",
       "      <td>5</td>\n",
       "      <td>1</td>\n",
       "    </tr>\n",
       "  </tbody>\n",
       "</table>\n",
       "</div>"
      ],
      "text/plain": [
       "   order_id  product_id  add_to_cart_order  reordered\n",
       "0         1       49302                  1          1\n",
       "1         1       11109                  2          1\n",
       "2         1       10246                  3          0\n",
       "3         1       49683                  4          0\n",
       "4         1       43633                  5          1"
      ]
     },
     "execution_count": 6,
     "metadata": {},
     "output_type": "execute_result"
    }
   ],
   "source": [
    "product_train.head()"
   ]
  },
  {
   "cell_type": "code",
   "execution_count": 7,
   "id": "722da8a2",
   "metadata": {},
   "outputs": [
    {
     "data": {
      "text/html": [
       "<div>\n",
       "<style scoped>\n",
       "    .dataframe tbody tr th:only-of-type {\n",
       "        vertical-align: middle;\n",
       "    }\n",
       "\n",
       "    .dataframe tbody tr th {\n",
       "        vertical-align: top;\n",
       "    }\n",
       "\n",
       "    .dataframe thead th {\n",
       "        text-align: right;\n",
       "    }\n",
       "</style>\n",
       "<table border=\"1\" class=\"dataframe\">\n",
       "  <thead>\n",
       "    <tr style=\"text-align: right;\">\n",
       "      <th></th>\n",
       "      <th>department_id</th>\n",
       "      <th>department</th>\n",
       "    </tr>\n",
       "  </thead>\n",
       "  <tbody>\n",
       "    <tr>\n",
       "      <th>0</th>\n",
       "      <td>1</td>\n",
       "      <td>frozen</td>\n",
       "    </tr>\n",
       "    <tr>\n",
       "      <th>1</th>\n",
       "      <td>2</td>\n",
       "      <td>other</td>\n",
       "    </tr>\n",
       "    <tr>\n",
       "      <th>2</th>\n",
       "      <td>3</td>\n",
       "      <td>bakery</td>\n",
       "    </tr>\n",
       "    <tr>\n",
       "      <th>3</th>\n",
       "      <td>4</td>\n",
       "      <td>produce</td>\n",
       "    </tr>\n",
       "    <tr>\n",
       "      <th>4</th>\n",
       "      <td>5</td>\n",
       "      <td>alcohol</td>\n",
       "    </tr>\n",
       "  </tbody>\n",
       "</table>\n",
       "</div>"
      ],
      "text/plain": [
       "   department_id department\n",
       "0              1     frozen\n",
       "1              2      other\n",
       "2              3     bakery\n",
       "3              4    produce\n",
       "4              5    alcohol"
      ]
     },
     "execution_count": 7,
     "metadata": {},
     "output_type": "execute_result"
    }
   ],
   "source": [
    "dept.head()"
   ]
  },
  {
   "cell_type": "code",
   "execution_count": 8,
   "id": "d0ccb367",
   "metadata": {},
   "outputs": [
    {
     "data": {
      "text/html": [
       "<div>\n",
       "<style scoped>\n",
       "    .dataframe tbody tr th:only-of-type {\n",
       "        vertical-align: middle;\n",
       "    }\n",
       "\n",
       "    .dataframe tbody tr th {\n",
       "        vertical-align: top;\n",
       "    }\n",
       "\n",
       "    .dataframe thead th {\n",
       "        text-align: right;\n",
       "    }\n",
       "</style>\n",
       "<table border=\"1\" class=\"dataframe\">\n",
       "  <thead>\n",
       "    <tr style=\"text-align: right;\">\n",
       "      <th></th>\n",
       "      <th>product_id</th>\n",
       "      <th>product_name</th>\n",
       "      <th>aisle_id</th>\n",
       "      <th>department_id</th>\n",
       "    </tr>\n",
       "  </thead>\n",
       "  <tbody>\n",
       "    <tr>\n",
       "      <th>0</th>\n",
       "      <td>1</td>\n",
       "      <td>Chocolate Sandwich Cookies</td>\n",
       "      <td>61</td>\n",
       "      <td>19</td>\n",
       "    </tr>\n",
       "    <tr>\n",
       "      <th>1</th>\n",
       "      <td>2</td>\n",
       "      <td>All-Seasons Salt</td>\n",
       "      <td>104</td>\n",
       "      <td>13</td>\n",
       "    </tr>\n",
       "    <tr>\n",
       "      <th>2</th>\n",
       "      <td>3</td>\n",
       "      <td>Robust Golden Unsweetened Oolong Tea</td>\n",
       "      <td>94</td>\n",
       "      <td>7</td>\n",
       "    </tr>\n",
       "    <tr>\n",
       "      <th>3</th>\n",
       "      <td>4</td>\n",
       "      <td>Smart Ones Classic Favorites Mini Rigatoni Wit...</td>\n",
       "      <td>38</td>\n",
       "      <td>1</td>\n",
       "    </tr>\n",
       "    <tr>\n",
       "      <th>4</th>\n",
       "      <td>5</td>\n",
       "      <td>Green Chile Anytime Sauce</td>\n",
       "      <td>5</td>\n",
       "      <td>13</td>\n",
       "    </tr>\n",
       "  </tbody>\n",
       "</table>\n",
       "</div>"
      ],
      "text/plain": [
       "   product_id                                       product_name  aisle_id  \\\n",
       "0           1                         Chocolate Sandwich Cookies        61   \n",
       "1           2                                   All-Seasons Salt       104   \n",
       "2           3               Robust Golden Unsweetened Oolong Tea        94   \n",
       "3           4  Smart Ones Classic Favorites Mini Rigatoni Wit...        38   \n",
       "4           5                          Green Chile Anytime Sauce         5   \n",
       "\n",
       "   department_id  \n",
       "0             19  \n",
       "1             13  \n",
       "2              7  \n",
       "3              1  \n",
       "4             13  "
      ]
     },
     "execution_count": 8,
     "metadata": {},
     "output_type": "execute_result"
    }
   ],
   "source": [
    "products.head()"
   ]
  },
  {
   "cell_type": "markdown",
   "id": "cb5848ca",
   "metadata": {},
   "source": [
    "# To understand the relation between the tables look at the image provided below"
   ]
  },
  {
   "attachments": {
    "image.png": {
     "image/png": "[encoded data removed]"
    }
   },
   "cell_type": "markdown",
   "id": "b7dde9f0",
   "metadata": {},
   "source": [
    "![image.png](attachment:image.png)"
   ]
  },
  {
   "cell_type": "code",
   "execution_count": null,
   "id": "6eb0a865",
   "metadata": {},
   "outputs": [],
   "source": []
  },
  {
   "cell_type": "markdown",
   "id": "59cb92f7",
   "metadata": {},
   "source": [
    "## Since it is Kaggle provided dataset there is a less chance of having any NULL/NA values but still we are going to check it specifically in the orders table as it is specified that it has some null values"
   ]
  },
  {
   "cell_type": "code",
   "execution_count": 9,
   "id": "0b36e9b7",
   "metadata": {},
   "outputs": [
    {
     "data": {
      "text/plain": [
       "order_id                       0\n",
       "user_id                        0\n",
       "eval_set                       0\n",
       "order_number                   0\n",
       "order_dow                      0\n",
       "order_hour_of_day              0\n",
       "days_since_prior_order    206209\n",
       "dtype: int64"
      ]
     },
     "execution_count": 9,
     "metadata": {},
     "output_type": "execute_result"
    }
   ],
   "source": [
    "orders.isna().sum()"
   ]
  },
  {
   "cell_type": "code",
   "execution_count": null,
   "id": "417ae172",
   "metadata": {},
   "outputs": [],
   "source": []
  },
  {
   "cell_type": "markdown",
   "id": "823934dc",
   "metadata": {},
   "source": [
    "## Lets see if the hour day of week column has all the possible values(i.e 0-23 hours and 0-6 day of week where 0 means Sunday) and also check the frequency"
   ]
  },
  {
   "cell_type": "code",
   "execution_count": 10,
   "id": "e6bd1bb4",
   "metadata": {},
   "outputs": [
    {
     "data": {
      "text/plain": [
       "array([2, 3, 4, 1, 5, 0, 6], dtype=int64)"
      ]
     },
     "execution_count": 10,
     "metadata": {},
     "output_type": "execute_result"
    }
   ],
   "source": [
    "orders['order_dow'].unique()"
   ]
  },
  {
   "cell_type": "code",
   "execution_count": 11,
   "id": "3c67d25e",
   "metadata": {},
   "outputs": [
    {
     "name": "stdout",
     "output_type": "stream",
     "text": [
      "[0, 1, 2, 3, 4, 5, 6, 7, 8, 9, 10, 11, 12, 13, 14, 15, 16, 17, 18, 19, 20, 21, 22, 23]\n"
     ]
    }
   ],
   "source": [
    "hrs = sorted(orders['order_hour_of_day'].unique())\n",
    "print(hrs)"
   ]
  },
  {
   "cell_type": "code",
   "execution_count": 12,
   "id": "b34d5071",
   "metadata": {},
   "outputs": [
    {
     "data": {
      "text/html": [
       "<div>\n",
       "<style scoped>\n",
       "    .dataframe tbody tr th:only-of-type {\n",
       "        vertical-align: middle;\n",
       "    }\n",
       "\n",
       "    .dataframe tbody tr th {\n",
       "        vertical-align: top;\n",
       "    }\n",
       "\n",
       "    .dataframe thead th {\n",
       "        text-align: right;\n",
       "    }\n",
       "</style>\n",
       "<table border=\"1\" class=\"dataframe\">\n",
       "  <thead>\n",
       "    <tr style=\"text-align: right;\">\n",
       "      <th></th>\n",
       "      <th>order_id</th>\n",
       "      <th>user_id</th>\n",
       "      <th>eval_set</th>\n",
       "      <th>order_number</th>\n",
       "      <th>order_dow</th>\n",
       "      <th>order_hour_of_day</th>\n",
       "      <th>days_since_prior_order</th>\n",
       "      <th>weekday</th>\n",
       "    </tr>\n",
       "  </thead>\n",
       "  <tbody>\n",
       "    <tr>\n",
       "      <th>0</th>\n",
       "      <td>2539329</td>\n",
       "      <td>1</td>\n",
       "      <td>prior</td>\n",
       "      <td>1</td>\n",
       "      <td>2</td>\n",
       "      <td>8</td>\n",
       "      <td>NaN</td>\n",
       "      <td>Tuesday</td>\n",
       "    </tr>\n",
       "    <tr>\n",
       "      <th>1</th>\n",
       "      <td>2398795</td>\n",
       "      <td>1</td>\n",
       "      <td>prior</td>\n",
       "      <td>2</td>\n",
       "      <td>3</td>\n",
       "      <td>7</td>\n",
       "      <td>15.0</td>\n",
       "      <td>Wednesday</td>\n",
       "    </tr>\n",
       "    <tr>\n",
       "      <th>2</th>\n",
       "      <td>473747</td>\n",
       "      <td>1</td>\n",
       "      <td>prior</td>\n",
       "      <td>3</td>\n",
       "      <td>3</td>\n",
       "      <td>12</td>\n",
       "      <td>21.0</td>\n",
       "      <td>Wednesday</td>\n",
       "    </tr>\n",
       "    <tr>\n",
       "      <th>3</th>\n",
       "      <td>2254736</td>\n",
       "      <td>1</td>\n",
       "      <td>prior</td>\n",
       "      <td>4</td>\n",
       "      <td>4</td>\n",
       "      <td>7</td>\n",
       "      <td>29.0</td>\n",
       "      <td>Thursday</td>\n",
       "    </tr>\n",
       "    <tr>\n",
       "      <th>4</th>\n",
       "      <td>431534</td>\n",
       "      <td>1</td>\n",
       "      <td>prior</td>\n",
       "      <td>5</td>\n",
       "      <td>4</td>\n",
       "      <td>15</td>\n",
       "      <td>28.0</td>\n",
       "      <td>Thursday</td>\n",
       "    </tr>\n",
       "    <tr>\n",
       "      <th>...</th>\n",
       "      <td>...</td>\n",
       "      <td>...</td>\n",
       "      <td>...</td>\n",
       "      <td>...</td>\n",
       "      <td>...</td>\n",
       "      <td>...</td>\n",
       "      <td>...</td>\n",
       "      <td>...</td>\n",
       "    </tr>\n",
       "    <tr>\n",
       "      <th>3421078</th>\n",
       "      <td>2266710</td>\n",
       "      <td>206209</td>\n",
       "      <td>prior</td>\n",
       "      <td>10</td>\n",
       "      <td>5</td>\n",
       "      <td>18</td>\n",
       "      <td>29.0</td>\n",
       "      <td>Friday</td>\n",
       "    </tr>\n",
       "    <tr>\n",
       "      <th>3421079</th>\n",
       "      <td>1854736</td>\n",
       "      <td>206209</td>\n",
       "      <td>prior</td>\n",
       "      <td>11</td>\n",
       "      <td>4</td>\n",
       "      <td>10</td>\n",
       "      <td>30.0</td>\n",
       "      <td>Thursday</td>\n",
       "    </tr>\n",
       "    <tr>\n",
       "      <th>3421080</th>\n",
       "      <td>626363</td>\n",
       "      <td>206209</td>\n",
       "      <td>prior</td>\n",
       "      <td>12</td>\n",
       "      <td>1</td>\n",
       "      <td>12</td>\n",
       "      <td>18.0</td>\n",
       "      <td>Monday</td>\n",
       "    </tr>\n",
       "    <tr>\n",
       "      <th>3421081</th>\n",
       "      <td>2977660</td>\n",
       "      <td>206209</td>\n",
       "      <td>prior</td>\n",
       "      <td>13</td>\n",
       "      <td>1</td>\n",
       "      <td>12</td>\n",
       "      <td>7.0</td>\n",
       "      <td>Monday</td>\n",
       "    </tr>\n",
       "    <tr>\n",
       "      <th>3421082</th>\n",
       "      <td>272231</td>\n",
       "      <td>206209</td>\n",
       "      <td>train</td>\n",
       "      <td>14</td>\n",
       "      <td>6</td>\n",
       "      <td>14</td>\n",
       "      <td>30.0</td>\n",
       "      <td>Saturday</td>\n",
       "    </tr>\n",
       "  </tbody>\n",
       "</table>\n",
       "<p>3421083 rows × 8 columns</p>\n",
       "</div>"
      ],
      "text/plain": [
       "         order_id  user_id eval_set  order_number  order_dow  \\\n",
       "0         2539329        1    prior             1          2   \n",
       "1         2398795        1    prior             2          3   \n",
       "2          473747        1    prior             3          3   \n",
       "3         2254736        1    prior             4          4   \n",
       "4          431534        1    prior             5          4   \n",
       "...           ...      ...      ...           ...        ...   \n",
       "3421078   2266710   206209    prior            10          5   \n",
       "3421079   1854736   206209    prior            11          4   \n",
       "3421080    626363   206209    prior            12          1   \n",
       "3421081   2977660   206209    prior            13          1   \n",
       "3421082    272231   206209    train            14          6   \n",
       "\n",
       "         order_hour_of_day  days_since_prior_order    weekday  \n",
       "0                        8                     NaN    Tuesday  \n",
       "1                        7                    15.0  Wednesday  \n",
       "2                       12                    21.0  Wednesday  \n",
       "3                        7                    29.0   Thursday  \n",
       "4                       15                    28.0   Thursday  \n",
       "...                    ...                     ...        ...  \n",
       "3421078                 18                    29.0     Friday  \n",
       "3421079                 10                    30.0   Thursday  \n",
       "3421080                 12                    18.0     Monday  \n",
       "3421081                 12                     7.0     Monday  \n",
       "3421082                 14                    30.0   Saturday  \n",
       "\n",
       "[3421083 rows x 8 columns]"
      ]
     },
     "execution_count": 12,
     "metadata": {},
     "output_type": "execute_result"
    }
   ],
   "source": [
    "dayOfWeek={1:'Monday', 2:'Tuesday', 3:'Wednesday', 4:'Thursday', 5:'Friday', 6:'Saturday', 0:'Sunday'}\n",
    "orders['weekday'] = orders['order_dow'].map(dayOfWeek)\n",
    "orders"
   ]
  },
  {
   "cell_type": "code",
   "execution_count": 13,
   "id": "4273e3ed",
   "metadata": {},
   "outputs": [
    {
     "data": {
      "text/plain": [
       "Monday       587478\n",
       "Tuesday      467260\n",
       "Wednesday    436972\n",
       "Thursday     426339\n",
       "Friday       453368\n",
       "Saturday     448761\n",
       "Sunday       600905\n",
       "Name: weekday, dtype: int64"
      ]
     },
     "execution_count": 13,
     "metadata": {},
     "output_type": "execute_result"
    }
   ],
   "source": [
    "ord = orders['weekday'].value_counts()[['Monday','Tuesday','Wednesday','Thursday','Friday','Saturday','Sunday']]\n",
    "ord"
   ]
  },
  {
   "cell_type": "code",
   "execution_count": 14,
   "id": "72885d3d",
   "metadata": {},
   "outputs": [
    {
     "data": {
      "image/png": "[encoded data removed]",
      "text/plain": [
       "<Figure size 432x288 with 1 Axes>"
      ]
     },
     "metadata": {
      "needs_background": "light"
     },
     "output_type": "display_data"
    }
   ],
   "source": [
    "orders['weekday'].value_counts().plot(kind='bar')\n",
    "plt.xlabel('Day of Week')\n",
    "plt.ylabel('Number of Orders')\n",
    "plt.title('Number of Orders per Day')\n",
    "plt.show()"
   ]
  },
  {
   "cell_type": "markdown",
   "id": "0b392dd3",
   "metadata": {},
   "source": [
    "## The basic thing that we can see that the orders are a bit more on Sunday and Monday which can be obvious considering that people are stocking for the week but we will keep that in mind for further analysis"
   ]
  },
  {
   "cell_type": "code",
   "execution_count": 15,
   "id": "af01a1a0",
   "metadata": {},
   "outputs": [
    {
     "data": {
      "text/plain": [
       "10    288418\n",
       "11    284728\n",
       "15    283639\n",
       "14    283042\n",
       "13    277999\n",
       "12    272841\n",
       "16    272553\n",
       "9     257812\n",
       "17    228795\n",
       "18    182912\n",
       "8     178201\n",
       "19    140569\n",
       "20    104292\n",
       "7      91868\n",
       "21     78109\n",
       "22     61468\n",
       "23     40043\n",
       "6      30529\n",
       "0      22758\n",
       "1      12398\n",
       "5       9569\n",
       "2       7539\n",
       "4       5527\n",
       "3       5474\n",
       "Name: order_hour_of_day, dtype: int64"
      ]
     },
     "execution_count": 15,
     "metadata": {},
     "output_type": "execute_result"
    }
   ],
   "source": [
    "orders['order_hour_of_day'].value_counts()"
   ]
  },
  {
   "cell_type": "code",
   "execution_count": 16,
   "id": "04c06701",
   "metadata": {},
   "outputs": [
    {
     "data": {
      "image/png": "[encoded data removed]",
      "text/plain": [
       "<Figure size 1080x504 with 1 Axes>"
      ]
     },
     "metadata": {
      "needs_background": "light"
     },
     "output_type": "display_data"
    }
   ],
   "source": [
    "plt.figure(figsize=(15,7))\n",
    "# orders['order_hour_of_day'].value_counts().plot(kind='bar')\n",
    "sns.countplot(x=\"order_hour_of_day\", data=orders, color=color[2])\n",
    "plt.xlabel('Time of Day')\n",
    "plt.ylabel('Number of Orders')\n",
    "plt.title('Number of Orders at different time')\n",
    "plt.show()"
   ]
  },
  {
   "cell_type": "markdown",
   "id": "78ded5f3",
   "metadata": {},
   "source": [
    "## Here we can observe that a major chuck of orders are being placed between 8am to 9pm and to be more specific during the afternoon time so that can be considered as a potential time period to enter an coupon code or offers to increase more sales and profit."
   ]
  },
  {
   "cell_type": "code",
   "execution_count": null,
   "id": "29fb31af",
   "metadata": {},
   "outputs": [],
   "source": []
  },
  {
   "cell_type": "code",
   "execution_count": null,
   "id": "2b5fe0b5",
   "metadata": {},
   "outputs": [],
   "source": []
  },
  {
   "cell_type": "code",
   "execution_count": null,
   "id": "e7c531b2",
   "metadata": {},
   "outputs": [],
   "source": []
  },
  {
   "cell_type": "markdown",
   "id": "1c00c67d",
   "metadata": {},
   "source": [
    "# Now lest see how the Hour of day conincide with the Day of week and see if there is any major change in the orderstime throughout the week."
   ]
  },
  {
   "cell_type": "code",
   "execution_count": 17,
   "id": "236c449a",
   "metadata": {},
   "outputs": [
    {
     "data": {
      "text/html": [
       "<div>\n",
       "<style scoped>\n",
       "    .dataframe tbody tr th:only-of-type {\n",
       "        vertical-align: middle;\n",
       "    }\n",
       "\n",
       "    .dataframe tbody tr th {\n",
       "        vertical-align: top;\n",
       "    }\n",
       "\n",
       "    .dataframe thead th {\n",
       "        text-align: right;\n",
       "    }\n",
       "</style>\n",
       "<table border=\"1\" class=\"dataframe\">\n",
       "  <thead>\n",
       "    <tr style=\"text-align: right;\">\n",
       "      <th></th>\n",
       "      <th>order_dow</th>\n",
       "      <th>order_hour_of_day</th>\n",
       "      <th>order_number</th>\n",
       "    </tr>\n",
       "  </thead>\n",
       "  <tbody>\n",
       "    <tr>\n",
       "      <th>0</th>\n",
       "      <td>0</td>\n",
       "      <td>0</td>\n",
       "      <td>3936</td>\n",
       "    </tr>\n",
       "    <tr>\n",
       "      <th>1</th>\n",
       "      <td>0</td>\n",
       "      <td>1</td>\n",
       "      <td>2398</td>\n",
       "    </tr>\n",
       "    <tr>\n",
       "      <th>2</th>\n",
       "      <td>0</td>\n",
       "      <td>2</td>\n",
       "      <td>1409</td>\n",
       "    </tr>\n",
       "    <tr>\n",
       "      <th>3</th>\n",
       "      <td>0</td>\n",
       "      <td>3</td>\n",
       "      <td>963</td>\n",
       "    </tr>\n",
       "    <tr>\n",
       "      <th>4</th>\n",
       "      <td>0</td>\n",
       "      <td>4</td>\n",
       "      <td>813</td>\n",
       "    </tr>\n",
       "    <tr>\n",
       "      <th>...</th>\n",
       "      <td>...</td>\n",
       "      <td>...</td>\n",
       "      <td>...</td>\n",
       "    </tr>\n",
       "    <tr>\n",
       "      <th>163</th>\n",
       "      <td>6</td>\n",
       "      <td>19</td>\n",
       "      <td>18346</td>\n",
       "    </tr>\n",
       "    <tr>\n",
       "      <th>164</th>\n",
       "      <td>6</td>\n",
       "      <td>20</td>\n",
       "      <td>13392</td>\n",
       "    </tr>\n",
       "    <tr>\n",
       "      <th>165</th>\n",
       "      <td>6</td>\n",
       "      <td>21</td>\n",
       "      <td>10501</td>\n",
       "    </tr>\n",
       "    <tr>\n",
       "      <th>166</th>\n",
       "      <td>6</td>\n",
       "      <td>22</td>\n",
       "      <td>8532</td>\n",
       "    </tr>\n",
       "    <tr>\n",
       "      <th>167</th>\n",
       "      <td>6</td>\n",
       "      <td>23</td>\n",
       "      <td>6087</td>\n",
       "    </tr>\n",
       "  </tbody>\n",
       "</table>\n",
       "<p>168 rows × 3 columns</p>\n",
       "</div>"
      ],
      "text/plain": [
       "     order_dow  order_hour_of_day  order_number\n",
       "0            0                  0          3936\n",
       "1            0                  1          2398\n",
       "2            0                  2          1409\n",
       "3            0                  3           963\n",
       "4            0                  4           813\n",
       "..         ...                ...           ...\n",
       "163          6                 19         18346\n",
       "164          6                 20         13392\n",
       "165          6                 21         10501\n",
       "166          6                 22          8532\n",
       "167          6                 23          6087\n",
       "\n",
       "[168 rows x 3 columns]"
      ]
     },
     "execution_count": 17,
     "metadata": {},
     "output_type": "execute_result"
    }
   ],
   "source": [
    "group1 = orders.groupby([\"order_dow\", \"order_hour_of_day\"])[\"order_number\"].aggregate('count').reset_index()\n",
    "group1"
   ]
  },
  {
   "cell_type": "code",
   "execution_count": 18,
   "id": "33aa6408",
   "metadata": {},
   "outputs": [
    {
     "data": {
      "text/html": [
       "<div>\n",
       "<style scoped>\n",
       "    .dataframe tbody tr th:only-of-type {\n",
       "        vertical-align: middle;\n",
       "    }\n",
       "\n",
       "    .dataframe tbody tr th {\n",
       "        vertical-align: top;\n",
       "    }\n",
       "\n",
       "    .dataframe thead th {\n",
       "        text-align: right;\n",
       "    }\n",
       "</style>\n",
       "<table border=\"1\" class=\"dataframe\">\n",
       "  <thead>\n",
       "    <tr style=\"text-align: right;\">\n",
       "      <th>order_hour_of_day</th>\n",
       "      <th>0</th>\n",
       "      <th>1</th>\n",
       "      <th>2</th>\n",
       "      <th>3</th>\n",
       "      <th>4</th>\n",
       "      <th>5</th>\n",
       "      <th>6</th>\n",
       "      <th>7</th>\n",
       "      <th>8</th>\n",
       "      <th>9</th>\n",
       "      <th>...</th>\n",
       "      <th>14</th>\n",
       "      <th>15</th>\n",
       "      <th>16</th>\n",
       "      <th>17</th>\n",
       "      <th>18</th>\n",
       "      <th>19</th>\n",
       "      <th>20</th>\n",
       "      <th>21</th>\n",
       "      <th>22</th>\n",
       "      <th>23</th>\n",
       "    </tr>\n",
       "    <tr>\n",
       "      <th>order_dow</th>\n",
       "      <th></th>\n",
       "      <th></th>\n",
       "      <th></th>\n",
       "      <th></th>\n",
       "      <th></th>\n",
       "      <th></th>\n",
       "      <th></th>\n",
       "      <th></th>\n",
       "      <th></th>\n",
       "      <th></th>\n",
       "      <th></th>\n",
       "      <th></th>\n",
       "      <th></th>\n",
       "      <th></th>\n",
       "      <th></th>\n",
       "      <th></th>\n",
       "      <th></th>\n",
       "      <th></th>\n",
       "      <th></th>\n",
       "      <th></th>\n",
       "      <th></th>\n",
       "    </tr>\n",
       "  </thead>\n",
       "  <tbody>\n",
       "    <tr>\n",
       "      <th>0</th>\n",
       "      <td>3936</td>\n",
       "      <td>2398</td>\n",
       "      <td>1409</td>\n",
       "      <td>963</td>\n",
       "      <td>813</td>\n",
       "      <td>1168</td>\n",
       "      <td>3329</td>\n",
       "      <td>12410</td>\n",
       "      <td>28108</td>\n",
       "      <td>40798</td>\n",
       "      <td>...</td>\n",
       "      <td>54552</td>\n",
       "      <td>53954</td>\n",
       "      <td>49463</td>\n",
       "      <td>39753</td>\n",
       "      <td>29572</td>\n",
       "      <td>22654</td>\n",
       "      <td>18277</td>\n",
       "      <td>14423</td>\n",
       "      <td>11246</td>\n",
       "      <td>6887</td>\n",
       "    </tr>\n",
       "    <tr>\n",
       "      <th>1</th>\n",
       "      <td>3674</td>\n",
       "      <td>1830</td>\n",
       "      <td>1105</td>\n",
       "      <td>748</td>\n",
       "      <td>809</td>\n",
       "      <td>1607</td>\n",
       "      <td>5370</td>\n",
       "      <td>16571</td>\n",
       "      <td>34116</td>\n",
       "      <td>51908</td>\n",
       "      <td>...</td>\n",
       "      <td>46764</td>\n",
       "      <td>46403</td>\n",
       "      <td>44761</td>\n",
       "      <td>36792</td>\n",
       "      <td>28977</td>\n",
       "      <td>22145</td>\n",
       "      <td>16281</td>\n",
       "      <td>11943</td>\n",
       "      <td>8992</td>\n",
       "      <td>5620</td>\n",
       "    </tr>\n",
       "    <tr>\n",
       "      <th>2</th>\n",
       "      <td>3059</td>\n",
       "      <td>1572</td>\n",
       "      <td>943</td>\n",
       "      <td>719</td>\n",
       "      <td>744</td>\n",
       "      <td>1399</td>\n",
       "      <td>4758</td>\n",
       "      <td>13245</td>\n",
       "      <td>24635</td>\n",
       "      <td>36314</td>\n",
       "      <td>...</td>\n",
       "      <td>37173</td>\n",
       "      <td>37469</td>\n",
       "      <td>37541</td>\n",
       "      <td>32151</td>\n",
       "      <td>26470</td>\n",
       "      <td>20084</td>\n",
       "      <td>15039</td>\n",
       "      <td>10653</td>\n",
       "      <td>8146</td>\n",
       "      <td>5358</td>\n",
       "    </tr>\n",
       "    <tr>\n",
       "      <th>3</th>\n",
       "      <td>2952</td>\n",
       "      <td>1495</td>\n",
       "      <td>953</td>\n",
       "      <td>654</td>\n",
       "      <td>719</td>\n",
       "      <td>1355</td>\n",
       "      <td>4562</td>\n",
       "      <td>12396</td>\n",
       "      <td>22553</td>\n",
       "      <td>32312</td>\n",
       "      <td>...</td>\n",
       "      <td>34773</td>\n",
       "      <td>35990</td>\n",
       "      <td>35273</td>\n",
       "      <td>30368</td>\n",
       "      <td>25001</td>\n",
       "      <td>19249</td>\n",
       "      <td>13795</td>\n",
       "      <td>10278</td>\n",
       "      <td>8242</td>\n",
       "      <td>5181</td>\n",
       "    </tr>\n",
       "    <tr>\n",
       "      <th>4</th>\n",
       "      <td>2642</td>\n",
       "      <td>1512</td>\n",
       "      <td>899</td>\n",
       "      <td>686</td>\n",
       "      <td>730</td>\n",
       "      <td>1330</td>\n",
       "      <td>4401</td>\n",
       "      <td>12493</td>\n",
       "      <td>21814</td>\n",
       "      <td>31409</td>\n",
       "      <td>...</td>\n",
       "      <td>33625</td>\n",
       "      <td>34222</td>\n",
       "      <td>34093</td>\n",
       "      <td>29378</td>\n",
       "      <td>24425</td>\n",
       "      <td>19350</td>\n",
       "      <td>14186</td>\n",
       "      <td>10796</td>\n",
       "      <td>8812</td>\n",
       "      <td>5645</td>\n",
       "    </tr>\n",
       "    <tr>\n",
       "      <th>5</th>\n",
       "      <td>3189</td>\n",
       "      <td>1672</td>\n",
       "      <td>1016</td>\n",
       "      <td>841</td>\n",
       "      <td>910</td>\n",
       "      <td>1574</td>\n",
       "      <td>4866</td>\n",
       "      <td>13434</td>\n",
       "      <td>24015</td>\n",
       "      <td>34232</td>\n",
       "      <td>...</td>\n",
       "      <td>37407</td>\n",
       "      <td>37508</td>\n",
       "      <td>35860</td>\n",
       "      <td>29955</td>\n",
       "      <td>24310</td>\n",
       "      <td>18741</td>\n",
       "      <td>13322</td>\n",
       "      <td>9515</td>\n",
       "      <td>7498</td>\n",
       "      <td>5265</td>\n",
       "    </tr>\n",
       "    <tr>\n",
       "      <th>6</th>\n",
       "      <td>3306</td>\n",
       "      <td>1919</td>\n",
       "      <td>1214</td>\n",
       "      <td>863</td>\n",
       "      <td>802</td>\n",
       "      <td>1136</td>\n",
       "      <td>3243</td>\n",
       "      <td>11319</td>\n",
       "      <td>22960</td>\n",
       "      <td>30839</td>\n",
       "      <td>...</td>\n",
       "      <td>38748</td>\n",
       "      <td>38093</td>\n",
       "      <td>35562</td>\n",
       "      <td>30398</td>\n",
       "      <td>24157</td>\n",
       "      <td>18346</td>\n",
       "      <td>13392</td>\n",
       "      <td>10501</td>\n",
       "      <td>8532</td>\n",
       "      <td>6087</td>\n",
       "    </tr>\n",
       "  </tbody>\n",
       "</table>\n",
       "<p>7 rows × 24 columns</p>\n",
       "</div>"
      ],
      "text/plain": [
       "order_hour_of_day    0     1     2    3    4     5     6      7      8   \\\n",
       "order_dow                                                                 \n",
       "0                  3936  2398  1409  963  813  1168  3329  12410  28108   \n",
       "1                  3674  1830  1105  748  809  1607  5370  16571  34116   \n",
       "2                  3059  1572   943  719  744  1399  4758  13245  24635   \n",
       "3                  2952  1495   953  654  719  1355  4562  12396  22553   \n",
       "4                  2642  1512   899  686  730  1330  4401  12493  21814   \n",
       "5                  3189  1672  1016  841  910  1574  4866  13434  24015   \n",
       "6                  3306  1919  1214  863  802  1136  3243  11319  22960   \n",
       "\n",
       "order_hour_of_day     9   ...     14     15     16     17     18     19  \\\n",
       "order_dow                 ...                                             \n",
       "0                  40798  ...  54552  53954  49463  39753  29572  22654   \n",
       "1                  51908  ...  46764  46403  44761  36792  28977  22145   \n",
       "2                  36314  ...  37173  37469  37541  32151  26470  20084   \n",
       "3                  32312  ...  34773  35990  35273  30368  25001  19249   \n",
       "4                  31409  ...  33625  34222  34093  29378  24425  19350   \n",
       "5                  34232  ...  37407  37508  35860  29955  24310  18741   \n",
       "6                  30839  ...  38748  38093  35562  30398  24157  18346   \n",
       "\n",
       "order_hour_of_day     20     21     22    23  \n",
       "order_dow                                     \n",
       "0                  18277  14423  11246  6887  \n",
       "1                  16281  11943   8992  5620  \n",
       "2                  15039  10653   8146  5358  \n",
       "3                  13795  10278   8242  5181  \n",
       "4                  14186  10796   8812  5645  \n",
       "5                  13322   9515   7498  5265  \n",
       "6                  13392  10501   8532  6087  \n",
       "\n",
       "[7 rows x 24 columns]"
      ]
     },
     "execution_count": 18,
     "metadata": {},
     "output_type": "execute_result"
    }
   ],
   "source": [
    "group_pivot = group1.pivot('order_dow', 'order_hour_of_day', 'order_number')\n",
    "group_pivot"
   ]
  },
  {
   "cell_type": "code",
   "execution_count": 19,
   "id": "b802ec58",
   "metadata": {},
   "outputs": [
    {
     "data": {
      "image/png": "[encoded data removed]",
      "text/plain": [
       "<Figure size 1080x504 with 2 Axes>"
      ]
     },
     "metadata": {
      "needs_background": "light"
     },
     "output_type": "display_data"
    }
   ],
   "source": [
    "plt.figure(figsize=(15,7))\n",
    "sns.heatmap(group_pivot)\n",
    "plt.title(\"Frequency Distribution of Day of week V/S Hour of day\")\n",
    "plt.show()"
   ]
  },
  {
   "cell_type": "markdown",
   "id": "aea0e362",
   "metadata": {},
   "source": [
    "## This also confirms our observation earlier where we said that the major chuck of orders are being placed between 8am to 9pm"
   ]
  },
  {
   "cell_type": "code",
   "execution_count": null,
   "id": "e9fd6623",
   "metadata": {},
   "outputs": [],
   "source": []
  },
  {
   "cell_type": "code",
   "execution_count": null,
   "id": "7312f6d6",
   "metadata": {},
   "outputs": [],
   "source": []
  },
  {
   "cell_type": "code",
   "execution_count": null,
   "id": "421dfb9f",
   "metadata": {},
   "outputs": [],
   "source": []
  },
  {
   "cell_type": "markdown",
   "id": "5666f8fd",
   "metadata": {},
   "source": [
    "# Top 15 commonly ordered products"
   ]
  },
  {
   "cell_type": "code",
   "execution_count": 20,
   "id": "af2df675",
   "metadata": {},
   "outputs": [
    {
     "data": {
      "text/html": [
       "<div>\n",
       "<style scoped>\n",
       "    .dataframe tbody tr th:only-of-type {\n",
       "        vertical-align: middle;\n",
       "    }\n",
       "\n",
       "    .dataframe tbody tr th {\n",
       "        vertical-align: top;\n",
       "    }\n",
       "\n",
       "    .dataframe thead th {\n",
       "        text-align: right;\n",
       "    }\n",
       "</style>\n",
       "<table border=\"1\" class=\"dataframe\">\n",
       "  <thead>\n",
       "    <tr style=\"text-align: right;\">\n",
       "      <th></th>\n",
       "      <th>order_id</th>\n",
       "      <th>product_id</th>\n",
       "      <th>add_to_cart_order</th>\n",
       "      <th>reordered</th>\n",
       "      <th>product_name</th>\n",
       "      <th>aisle_id</th>\n",
       "      <th>department_id</th>\n",
       "    </tr>\n",
       "  </thead>\n",
       "  <tbody>\n",
       "    <tr>\n",
       "      <th>0</th>\n",
       "      <td>2</td>\n",
       "      <td>33120</td>\n",
       "      <td>1</td>\n",
       "      <td>1</td>\n",
       "      <td>Organic Egg Whites</td>\n",
       "      <td>86</td>\n",
       "      <td>16</td>\n",
       "    </tr>\n",
       "    <tr>\n",
       "      <th>1</th>\n",
       "      <td>26</td>\n",
       "      <td>33120</td>\n",
       "      <td>5</td>\n",
       "      <td>0</td>\n",
       "      <td>Organic Egg Whites</td>\n",
       "      <td>86</td>\n",
       "      <td>16</td>\n",
       "    </tr>\n",
       "    <tr>\n",
       "      <th>2</th>\n",
       "      <td>120</td>\n",
       "      <td>33120</td>\n",
       "      <td>13</td>\n",
       "      <td>0</td>\n",
       "      <td>Organic Egg Whites</td>\n",
       "      <td>86</td>\n",
       "      <td>16</td>\n",
       "    </tr>\n",
       "    <tr>\n",
       "      <th>3</th>\n",
       "      <td>327</td>\n",
       "      <td>33120</td>\n",
       "      <td>5</td>\n",
       "      <td>1</td>\n",
       "      <td>Organic Egg Whites</td>\n",
       "      <td>86</td>\n",
       "      <td>16</td>\n",
       "    </tr>\n",
       "    <tr>\n",
       "      <th>4</th>\n",
       "      <td>390</td>\n",
       "      <td>33120</td>\n",
       "      <td>28</td>\n",
       "      <td>1</td>\n",
       "      <td>Organic Egg Whites</td>\n",
       "      <td>86</td>\n",
       "      <td>16</td>\n",
       "    </tr>\n",
       "    <tr>\n",
       "      <th>...</th>\n",
       "      <td>...</td>\n",
       "      <td>...</td>\n",
       "      <td>...</td>\n",
       "      <td>...</td>\n",
       "      <td>...</td>\n",
       "      <td>...</td>\n",
       "      <td>...</td>\n",
       "    </tr>\n",
       "    <tr>\n",
       "      <th>32434484</th>\n",
       "      <td>3265099</td>\n",
       "      <td>43492</td>\n",
       "      <td>3</td>\n",
       "      <td>0</td>\n",
       "      <td>Gourmet Burger Seasoning</td>\n",
       "      <td>104</td>\n",
       "      <td>13</td>\n",
       "    </tr>\n",
       "    <tr>\n",
       "      <th>32434485</th>\n",
       "      <td>3361945</td>\n",
       "      <td>43492</td>\n",
       "      <td>19</td>\n",
       "      <td>0</td>\n",
       "      <td>Gourmet Burger Seasoning</td>\n",
       "      <td>104</td>\n",
       "      <td>13</td>\n",
       "    </tr>\n",
       "    <tr>\n",
       "      <th>32434486</th>\n",
       "      <td>3267201</td>\n",
       "      <td>33097</td>\n",
       "      <td>2</td>\n",
       "      <td>0</td>\n",
       "      <td>Piquillo &amp; Jalapeno Bruschetta</td>\n",
       "      <td>81</td>\n",
       "      <td>15</td>\n",
       "    </tr>\n",
       "    <tr>\n",
       "      <th>32434487</th>\n",
       "      <td>3393151</td>\n",
       "      <td>38977</td>\n",
       "      <td>32</td>\n",
       "      <td>0</td>\n",
       "      <td>Original Jerky</td>\n",
       "      <td>100</td>\n",
       "      <td>21</td>\n",
       "    </tr>\n",
       "    <tr>\n",
       "      <th>32434488</th>\n",
       "      <td>3400803</td>\n",
       "      <td>23624</td>\n",
       "      <td>7</td>\n",
       "      <td>0</td>\n",
       "      <td>Flatbread Pizza All Natural</td>\n",
       "      <td>79</td>\n",
       "      <td>1</td>\n",
       "    </tr>\n",
       "  </tbody>\n",
       "</table>\n",
       "<p>32434489 rows × 7 columns</p>\n",
       "</div>"
      ],
      "text/plain": [
       "          order_id  product_id  add_to_cart_order  reordered  \\\n",
       "0                2       33120                  1          1   \n",
       "1               26       33120                  5          0   \n",
       "2              120       33120                 13          0   \n",
       "3              327       33120                  5          1   \n",
       "4              390       33120                 28          1   \n",
       "...            ...         ...                ...        ...   \n",
       "32434484   3265099       43492                  3          0   \n",
       "32434485   3361945       43492                 19          0   \n",
       "32434486   3267201       33097                  2          0   \n",
       "32434487   3393151       38977                 32          0   \n",
       "32434488   3400803       23624                  7          0   \n",
       "\n",
       "                            product_name  aisle_id  department_id  \n",
       "0                     Organic Egg Whites        86             16  \n",
       "1                     Organic Egg Whites        86             16  \n",
       "2                     Organic Egg Whites        86             16  \n",
       "3                     Organic Egg Whites        86             16  \n",
       "4                     Organic Egg Whites        86             16  \n",
       "...                                  ...       ...            ...  \n",
       "32434484        Gourmet Burger Seasoning       104             13  \n",
       "32434485        Gourmet Burger Seasoning       104             13  \n",
       "32434486  Piquillo & Jalapeno Bruschetta        81             15  \n",
       "32434487                  Original Jerky       100             21  \n",
       "32434488     Flatbread Pizza All Natural        79              1  \n",
       "\n",
       "[32434489 rows x 7 columns]"
      ]
     },
     "execution_count": 20,
     "metadata": {},
     "output_type": "execute_result"
    }
   ],
   "source": [
    "product_info = pd.merge(product_priors, products, on= 'product_id')\n",
    "product_info"
   ]
  },
  {
   "cell_type": "code",
   "execution_count": 21,
   "id": "9f8467ca",
   "metadata": {},
   "outputs": [
    {
     "data": {
      "text/plain": [
       "Banana                    472565\n",
       "Bag of Organic Bananas    379450\n",
       "Organic Strawberries      264683\n",
       "Organic Baby Spinach      241921\n",
       "Organic Hass Avocado      213584\n",
       "Organic Avocado           176815\n",
       "Large Lemon               152657\n",
       "Strawberries              142951\n",
       "Limes                     140627\n",
       "Organic Whole Milk        137905\n",
       "Organic Raspberries       137057\n",
       "Organic Yellow Onion      113426\n",
       "Organic Garlic            109778\n",
       "Organic Zucchini          104823\n",
       "Organic Blueberries       100060\n",
       "Name: product_name, dtype: int64"
      ]
     },
     "execution_count": 21,
     "metadata": {},
     "output_type": "execute_result"
    }
   ],
   "source": [
    "product_info['product_name'].value_counts().head(15)"
   ]
  },
  {
   "cell_type": "code",
   "execution_count": null,
   "id": "a22e901e",
   "metadata": {},
   "outputs": [],
   "source": []
  },
  {
   "cell_type": "markdown",
   "id": "44e81102",
   "metadata": {},
   "source": [
    "# Least commonly ordered products"
   ]
  },
  {
   "cell_type": "code",
   "execution_count": 22,
   "id": "da8bb20d",
   "metadata": {},
   "outputs": [
    {
     "data": {
      "text/plain": [
       "Blueberry Blast Fruit and Chia Seed Bar        1\n",
       "Vegan Coconut Milk Caramels With Sea Salt      1\n",
       "Kb Clb Stick Organic Fmly                      1\n",
       "Salt & Vinegar Flavored Potato Crisps          1\n",
       "Organic Veggie Ground                          1\n",
       "All Natural Stevia Liquid Extract Sweetener    1\n",
       "Vanilla Bean Sheep Milk Ice Cream              1\n",
       "Chelated Magnesium 250 Mg Gluten Free          1\n",
       "Coconut Cardamom Almond Butter                 1\n",
       "Fruit Me Up!  Applesauce Pouches               1\n",
       "Frittata, Farmer's Market                      1\n",
       "Fig Balsamic Vinegar                           1\n",
       "Punjabi Chhole, Hot Spicy                      1\n",
       "Molasses, Bead                                 1\n",
       "Flatbread Pizza All Natural                    1\n",
       "Name: product_name, dtype: int64"
      ]
     },
     "execution_count": 22,
     "metadata": {},
     "output_type": "execute_result"
    }
   ],
   "source": [
    "product_info['product_name'].value_counts().tail(15)"
   ]
  },
  {
   "cell_type": "code",
   "execution_count": null,
   "id": "0337c1bd",
   "metadata": {},
   "outputs": [],
   "source": []
  },
  {
   "cell_type": "code",
   "execution_count": null,
   "id": "41d52265",
   "metadata": {},
   "outputs": [],
   "source": []
  },
  {
   "cell_type": "markdown",
   "id": "4addde44",
   "metadata": {},
   "source": [
    "# Reordered products compared with the number of times they have been ordered"
   ]
  },
  {
   "cell_type": "code",
   "execution_count": 23,
   "id": "ae2914ee",
   "metadata": {},
   "outputs": [
    {
     "name": "stderr",
     "output_type": "stream",
     "text": [
      "c:\\programdata\\anaconda3\\lib\\site-packages\\ipykernel_launcher.py:1: FutureWarning: Indexing with multiple keys (implicitly converted to a tuple of keys) will be deprecated, use a list instead.\n",
      "  \"\"\"Entry point for launching an IPython kernel.\n"
     ]
    },
    {
     "data": {
      "text/html": [
       "<div>\n",
       "<style scoped>\n",
       "    .dataframe tbody tr th:only-of-type {\n",
       "        vertical-align: middle;\n",
       "    }\n",
       "\n",
       "    .dataframe tbody tr th {\n",
       "        vertical-align: top;\n",
       "    }\n",
       "\n",
       "    .dataframe thead th {\n",
       "        text-align: right;\n",
       "    }\n",
       "</style>\n",
       "<table border=\"1\" class=\"dataframe\">\n",
       "  <thead>\n",
       "    <tr style=\"text-align: right;\">\n",
       "      <th></th>\n",
       "      <th>order_id</th>\n",
       "      <th>reordered</th>\n",
       "    </tr>\n",
       "    <tr>\n",
       "      <th>product_name</th>\n",
       "      <th></th>\n",
       "      <th></th>\n",
       "    </tr>\n",
       "  </thead>\n",
       "  <tbody>\n",
       "    <tr>\n",
       "      <th>#2 Coffee Filters</th>\n",
       "      <td>777</td>\n",
       "      <td>257</td>\n",
       "    </tr>\n",
       "    <tr>\n",
       "      <th>#2 Cone White Coffee Filters</th>\n",
       "      <td>13</td>\n",
       "      <td>3</td>\n",
       "    </tr>\n",
       "    <tr>\n",
       "      <th>#2 Mechanical Pencils</th>\n",
       "      <td>8</td>\n",
       "      <td>0</td>\n",
       "    </tr>\n",
       "    <tr>\n",
       "      <th>#4 Natural Brown Coffee Filters</th>\n",
       "      <td>241</td>\n",
       "      <td>89</td>\n",
       "    </tr>\n",
       "    <tr>\n",
       "      <th>&amp; Go! Hazelnut Spread + Pretzel Sticks</th>\n",
       "      <td>164</td>\n",
       "      <td>87</td>\n",
       "    </tr>\n",
       "    <tr>\n",
       "      <th>...</th>\n",
       "      <td>...</td>\n",
       "      <td>...</td>\n",
       "    </tr>\n",
       "    <tr>\n",
       "      <th>with Xylitol Unwrapped Original Flavor 50 Sticks Sugar Free Gum</th>\n",
       "      <td>37</td>\n",
       "      <td>17</td>\n",
       "    </tr>\n",
       "    <tr>\n",
       "      <th>with Xylitol Unwrapped Spearmint 50 Sticks Sugar Free Gum</th>\n",
       "      <td>55</td>\n",
       "      <td>19</td>\n",
       "    </tr>\n",
       "    <tr>\n",
       "      <th>with Xylitol Watermelon Twist 18 Sticks Sugar Free Gum</th>\n",
       "      <td>68</td>\n",
       "      <td>31</td>\n",
       "    </tr>\n",
       "    <tr>\n",
       "      <th>with a Splash of Mango Coconut Water</th>\n",
       "      <td>23</td>\n",
       "      <td>6</td>\n",
       "    </tr>\n",
       "    <tr>\n",
       "      <th>with a Splash of Pineapple Coconut Water</th>\n",
       "      <td>53</td>\n",
       "      <td>25</td>\n",
       "    </tr>\n",
       "  </tbody>\n",
       "</table>\n",
       "<p>49677 rows × 2 columns</p>\n",
       "</div>"
      ],
      "text/plain": [
       "                                                    order_id  reordered\n",
       "product_name                                                           \n",
       "#2 Coffee Filters                                        777        257\n",
       "#2 Cone White Coffee Filters                              13          3\n",
       "#2 Mechanical Pencils                                      8          0\n",
       "#4 Natural Brown Coffee Filters                          241         89\n",
       "& Go! Hazelnut Spread + Pretzel Sticks                   164         87\n",
       "...                                                      ...        ...\n",
       "with Xylitol Unwrapped Original Flavor 50 Stick...        37         17\n",
       "with Xylitol Unwrapped Spearmint 50 Sticks Suga...        55         19\n",
       "with Xylitol Watermelon Twist 18 Sticks Sugar F...        68         31\n",
       "with a Splash of Mango Coconut Water                      23          6\n",
       "with a Splash of Pineapple Coconut Water                  53         25\n",
       "\n",
       "[49677 rows x 2 columns]"
      ]
     },
     "execution_count": 23,
     "metadata": {},
     "output_type": "execute_result"
    }
   ],
   "source": [
    "group2 = product_info.groupby('product_name')['order_id','reordered'].aggregate({'order_id':len, 'reordered':sum})\n",
    "group2"
   ]
  },
  {
   "cell_type": "code",
   "execution_count": 24,
   "id": "69b3f1be",
   "metadata": {},
   "outputs": [],
   "source": [
    "group2['reorder_rate'] = round(group2.reordered/group2.order_id,2)"
   ]
  },
  {
   "cell_type": "code",
   "execution_count": 25,
   "id": "a9cf91d4",
   "metadata": {},
   "outputs": [
    {
     "data": {
      "text/html": [
       "<div>\n",
       "<style scoped>\n",
       "    .dataframe tbody tr th:only-of-type {\n",
       "        vertical-align: middle;\n",
       "    }\n",
       "\n",
       "    .dataframe tbody tr th {\n",
       "        vertical-align: top;\n",
       "    }\n",
       "\n",
       "    .dataframe thead th {\n",
       "        text-align: right;\n",
       "    }\n",
       "</style>\n",
       "<table border=\"1\" class=\"dataframe\">\n",
       "  <thead>\n",
       "    <tr style=\"text-align: right;\">\n",
       "      <th></th>\n",
       "      <th>order_count</th>\n",
       "      <th>reordered</th>\n",
       "      <th>reorder_rate</th>\n",
       "    </tr>\n",
       "    <tr>\n",
       "      <th>product_name</th>\n",
       "      <th></th>\n",
       "      <th></th>\n",
       "      <th></th>\n",
       "    </tr>\n",
       "  </thead>\n",
       "  <tbody>\n",
       "    <tr>\n",
       "      <th>Raw Veggie Wrappers</th>\n",
       "      <td>68</td>\n",
       "      <td>64</td>\n",
       "      <td>0.94</td>\n",
       "    </tr>\n",
       "    <tr>\n",
       "      <th>Serenity Ultimate Extrema Overnight Pads</th>\n",
       "      <td>87</td>\n",
       "      <td>81</td>\n",
       "      <td>0.93</td>\n",
       "    </tr>\n",
       "    <tr>\n",
       "      <th>Orange Energy Shots</th>\n",
       "      <td>13</td>\n",
       "      <td>12</td>\n",
       "      <td>0.92</td>\n",
       "    </tr>\n",
       "    <tr>\n",
       "      <th>Chocolate Love Bar</th>\n",
       "      <td>101</td>\n",
       "      <td>93</td>\n",
       "      <td>0.92</td>\n",
       "    </tr>\n",
       "    <tr>\n",
       "      <th>Simply Sleep Nighttime Sleep Aid</th>\n",
       "      <td>45</td>\n",
       "      <td>41</td>\n",
       "      <td>0.91</td>\n",
       "    </tr>\n",
       "    <tr>\n",
       "      <th>...</th>\n",
       "      <td>...</td>\n",
       "      <td>...</td>\n",
       "      <td>...</td>\n",
       "    </tr>\n",
       "    <tr>\n",
       "      <th>Pappardelle Nests Pasta</th>\n",
       "      <td>1</td>\n",
       "      <td>0</td>\n",
       "      <td>0.00</td>\n",
       "    </tr>\n",
       "    <tr>\n",
       "      <th>Apple Cortland</th>\n",
       "      <td>12</td>\n",
       "      <td>0</td>\n",
       "      <td>0.00</td>\n",
       "    </tr>\n",
       "    <tr>\n",
       "      <th>Apple Cranberry Chutney</th>\n",
       "      <td>8</td>\n",
       "      <td>0</td>\n",
       "      <td>0.00</td>\n",
       "    </tr>\n",
       "    <tr>\n",
       "      <th>Texas Garden Flowers</th>\n",
       "      <td>19</td>\n",
       "      <td>0</td>\n",
       "      <td>0.00</td>\n",
       "    </tr>\n",
       "    <tr>\n",
       "      <th>Drink Distinct All Natural Soda Pineapple Coconut &amp; Nutmeg</th>\n",
       "      <td>1</td>\n",
       "      <td>0</td>\n",
       "      <td>0.00</td>\n",
       "    </tr>\n",
       "  </tbody>\n",
       "</table>\n",
       "<p>49677 rows × 3 columns</p>\n",
       "</div>"
      ],
      "text/plain": [
       "                                                    order_count  reordered  \\\n",
       "product_name                                                                 \n",
       "Raw Veggie Wrappers                                          68         64   \n",
       "Serenity Ultimate Extrema Overnight Pads                     87         81   \n",
       "Orange Energy Shots                                          13         12   \n",
       "Chocolate Love Bar                                          101         93   \n",
       "Simply Sleep Nighttime Sleep Aid                             45         41   \n",
       "...                                                         ...        ...   \n",
       "Pappardelle Nests Pasta                                       1          0   \n",
       "Apple Cortland                                               12          0   \n",
       "Apple Cranberry Chutney                                       8          0   \n",
       "Texas Garden Flowers                                         19          0   \n",
       "Drink Distinct All Natural Soda Pineapple Cocon...            1          0   \n",
       "\n",
       "                                                    reorder_rate  \n",
       "product_name                                                      \n",
       "Raw Veggie Wrappers                                         0.94  \n",
       "Serenity Ultimate Extrema Overnight Pads                    0.93  \n",
       "Orange Energy Shots                                         0.92  \n",
       "Chocolate Love Bar                                          0.92  \n",
       "Simply Sleep Nighttime Sleep Aid                            0.91  \n",
       "...                                                          ...  \n",
       "Pappardelle Nests Pasta                                     0.00  \n",
       "Apple Cortland                                              0.00  \n",
       "Apple Cranberry Chutney                                     0.00  \n",
       "Texas Garden Flowers                                        0.00  \n",
       "Drink Distinct All Natural Soda Pineapple Cocon...          0.00  \n",
       "\n",
       "[49677 rows x 3 columns]"
      ]
     },
     "execution_count": 25,
     "metadata": {},
     "output_type": "execute_result"
    }
   ],
   "source": [
    "group2.rename(columns={'order_id':'order_count'},inplace=True)\n",
    "group2.sort_values('reorder_rate',ascending=False)"
   ]
  },
  {
   "cell_type": "code",
   "execution_count": 26,
   "id": "ffa32e6a",
   "metadata": {},
   "outputs": [
    {
     "data": {
      "image/png": "[encoded data removed]",
      "text/plain": [
       "<Figure size 432x288 with 1 Axes>"
      ]
     },
     "metadata": {
      "needs_background": "light"
     },
     "output_type": "display_data"
    }
   ],
   "source": [
    "group2.hist(column='reorder_rate',bins=20)\n",
    "plt.show()"
   ]
  },
  {
   "cell_type": "markdown",
   "id": "48575ecc",
   "metadata": {},
   "source": [
    "## In the histogram above it seems that a good threshold to find the top most reordered items would be around 0.70-0.75 so I am chossing 0.70 here to get a better understanding of things."
   ]
  },
  {
   "cell_type": "code",
   "execution_count": 27,
   "id": "bac5cd93",
   "metadata": {},
   "outputs": [
    {
     "data": {
      "text/html": [
       "<div>\n",
       "<style scoped>\n",
       "    .dataframe tbody tr th:only-of-type {\n",
       "        vertical-align: middle;\n",
       "    }\n",
       "\n",
       "    .dataframe tbody tr th {\n",
       "        vertical-align: top;\n",
       "    }\n",
       "\n",
       "    .dataframe thead th {\n",
       "        text-align: right;\n",
       "    }\n",
       "</style>\n",
       "<table border=\"1\" class=\"dataframe\">\n",
       "  <thead>\n",
       "    <tr style=\"text-align: right;\">\n",
       "      <th></th>\n",
       "      <th>order_count</th>\n",
       "      <th>reordered</th>\n",
       "      <th>reorder_rate</th>\n",
       "    </tr>\n",
       "    <tr>\n",
       "      <th>product_name</th>\n",
       "      <th></th>\n",
       "      <th></th>\n",
       "      <th></th>\n",
       "    </tr>\n",
       "  </thead>\n",
       "  <tbody>\n",
       "    <tr>\n",
       "      <th>#2 Coffee Filters</th>\n",
       "      <td>777</td>\n",
       "      <td>257</td>\n",
       "      <td>0.33</td>\n",
       "    </tr>\n",
       "    <tr>\n",
       "      <th>#2 Cone White Coffee Filters</th>\n",
       "      <td>13</td>\n",
       "      <td>3</td>\n",
       "      <td>0.23</td>\n",
       "    </tr>\n",
       "    <tr>\n",
       "      <th>#2 Mechanical Pencils</th>\n",
       "      <td>8</td>\n",
       "      <td>0</td>\n",
       "      <td>0.00</td>\n",
       "    </tr>\n",
       "    <tr>\n",
       "      <th>#4 Natural Brown Coffee Filters</th>\n",
       "      <td>241</td>\n",
       "      <td>89</td>\n",
       "      <td>0.37</td>\n",
       "    </tr>\n",
       "    <tr>\n",
       "      <th>&amp; Go! Hazelnut Spread + Pretzel Sticks</th>\n",
       "      <td>164</td>\n",
       "      <td>87</td>\n",
       "      <td>0.53</td>\n",
       "    </tr>\n",
       "    <tr>\n",
       "      <th>...</th>\n",
       "      <td>...</td>\n",
       "      <td>...</td>\n",
       "      <td>...</td>\n",
       "    </tr>\n",
       "    <tr>\n",
       "      <th>with Xylitol Unwrapped Original Flavor 50 Sticks Sugar Free Gum</th>\n",
       "      <td>37</td>\n",
       "      <td>17</td>\n",
       "      <td>0.46</td>\n",
       "    </tr>\n",
       "    <tr>\n",
       "      <th>with Xylitol Unwrapped Spearmint 50 Sticks Sugar Free Gum</th>\n",
       "      <td>55</td>\n",
       "      <td>19</td>\n",
       "      <td>0.35</td>\n",
       "    </tr>\n",
       "    <tr>\n",
       "      <th>with Xylitol Watermelon Twist 18 Sticks Sugar Free Gum</th>\n",
       "      <td>68</td>\n",
       "      <td>31</td>\n",
       "      <td>0.46</td>\n",
       "    </tr>\n",
       "    <tr>\n",
       "      <th>with a Splash of Mango Coconut Water</th>\n",
       "      <td>23</td>\n",
       "      <td>6</td>\n",
       "      <td>0.26</td>\n",
       "    </tr>\n",
       "    <tr>\n",
       "      <th>with a Splash of Pineapple Coconut Water</th>\n",
       "      <td>53</td>\n",
       "      <td>25</td>\n",
       "      <td>0.47</td>\n",
       "    </tr>\n",
       "  </tbody>\n",
       "</table>\n",
       "<p>49677 rows × 3 columns</p>\n",
       "</div>"
      ],
      "text/plain": [
       "                                                    order_count  reordered  \\\n",
       "product_name                                                                 \n",
       "#2 Coffee Filters                                           777        257   \n",
       "#2 Cone White Coffee Filters                                 13          3   \n",
       "#2 Mechanical Pencils                                         8          0   \n",
       "#4 Natural Brown Coffee Filters                             241         89   \n",
       "& Go! Hazelnut Spread + Pretzel Sticks                      164         87   \n",
       "...                                                         ...        ...   \n",
       "with Xylitol Unwrapped Original Flavor 50 Stick...           37         17   \n",
       "with Xylitol Unwrapped Spearmint 50 Sticks Suga...           55         19   \n",
       "with Xylitol Watermelon Twist 18 Sticks Sugar F...           68         31   \n",
       "with a Splash of Mango Coconut Water                         23          6   \n",
       "with a Splash of Pineapple Coconut Water                     53         25   \n",
       "\n",
       "                                                    reorder_rate  \n",
       "product_name                                                      \n",
       "#2 Coffee Filters                                           0.33  \n",
       "#2 Cone White Coffee Filters                                0.23  \n",
       "#2 Mechanical Pencils                                       0.00  \n",
       "#4 Natural Brown Coffee Filters                             0.37  \n",
       "& Go! Hazelnut Spread + Pretzel Sticks                      0.53  \n",
       "...                                                          ...  \n",
       "with Xylitol Unwrapped Original Flavor 50 Stick...          0.46  \n",
       "with Xylitol Unwrapped Spearmint 50 Sticks Suga...          0.35  \n",
       "with Xylitol Watermelon Twist 18 Sticks Sugar F...          0.46  \n",
       "with a Splash of Mango Coconut Water                        0.26  \n",
       "with a Splash of Pineapple Coconut Water                    0.47  \n",
       "\n",
       "[49677 rows x 3 columns]"
      ]
     },
     "execution_count": 27,
     "metadata": {},
     "output_type": "execute_result"
    }
   ],
   "source": [
    "group2"
   ]
  },
  {
   "cell_type": "code",
   "execution_count": 28,
   "id": "a5f9a392",
   "metadata": {},
   "outputs": [
    {
     "data": {
      "text/plain": [
       "Index(['order_count', 'reordered', 'reorder_rate'], dtype='object')"
      ]
     },
     "execution_count": 28,
     "metadata": {},
     "output_type": "execute_result"
    }
   ],
   "source": [
    "group2.columns"
   ]
  },
  {
   "cell_type": "code",
   "execution_count": 29,
   "id": "ac72c354",
   "metadata": {},
   "outputs": [
    {
     "data": {
      "text/html": [
       "<div>\n",
       "<style scoped>\n",
       "    .dataframe tbody tr th:only-of-type {\n",
       "        vertical-align: middle;\n",
       "    }\n",
       "\n",
       "    .dataframe tbody tr th {\n",
       "        vertical-align: top;\n",
       "    }\n",
       "\n",
       "    .dataframe thead th {\n",
       "        text-align: right;\n",
       "    }\n",
       "</style>\n",
       "<table border=\"1\" class=\"dataframe\">\n",
       "  <thead>\n",
       "    <tr style=\"text-align: right;\">\n",
       "      <th></th>\n",
       "      <th>order_count</th>\n",
       "      <th>reordered</th>\n",
       "      <th>reorder_rate</th>\n",
       "    </tr>\n",
       "    <tr>\n",
       "      <th>product_name</th>\n",
       "      <th></th>\n",
       "      <th></th>\n",
       "      <th></th>\n",
       "    </tr>\n",
       "  </thead>\n",
       "  <tbody>\n",
       "    <tr>\n",
       "      <th>Raw Veggie Wrappers</th>\n",
       "      <td>68</td>\n",
       "      <td>64</td>\n",
       "      <td>0.94</td>\n",
       "    </tr>\n",
       "    <tr>\n",
       "      <th>Serenity Ultimate Extrema Overnight Pads</th>\n",
       "      <td>87</td>\n",
       "      <td>81</td>\n",
       "      <td>0.93</td>\n",
       "    </tr>\n",
       "    <tr>\n",
       "      <th>Orange Energy Shots</th>\n",
       "      <td>13</td>\n",
       "      <td>12</td>\n",
       "      <td>0.92</td>\n",
       "    </tr>\n",
       "    <tr>\n",
       "      <th>Chocolate Love Bar</th>\n",
       "      <td>101</td>\n",
       "      <td>93</td>\n",
       "      <td>0.92</td>\n",
       "    </tr>\n",
       "    <tr>\n",
       "      <th>Energy Shot, Grape Flavor</th>\n",
       "      <td>22</td>\n",
       "      <td>20</td>\n",
       "      <td>0.91</td>\n",
       "    </tr>\n",
       "    <tr>\n",
       "      <th>...</th>\n",
       "      <td>...</td>\n",
       "      <td>...</td>\n",
       "      <td>...</td>\n",
       "    </tr>\n",
       "    <tr>\n",
       "      <th>Double Strength Energy Drink</th>\n",
       "      <td>201</td>\n",
       "      <td>143</td>\n",
       "      <td>0.71</td>\n",
       "    </tr>\n",
       "    <tr>\n",
       "      <th>Boost Cherry Energy Drink</th>\n",
       "      <td>7</td>\n",
       "      <td>5</td>\n",
       "      <td>0.71</td>\n",
       "    </tr>\n",
       "    <tr>\n",
       "      <th>Organic Love Crunch Granola Dark Chocolate &amp; Red Berries</th>\n",
       "      <td>3650</td>\n",
       "      <td>2574</td>\n",
       "      <td>0.71</td>\n",
       "    </tr>\n",
       "    <tr>\n",
       "      <th>Strawberry Hemp Yogurt</th>\n",
       "      <td>14</td>\n",
       "      <td>10</td>\n",
       "      <td>0.71</td>\n",
       "    </tr>\n",
       "    <tr>\n",
       "      <th>Organic Cheddar Macaroni &amp; Cheese Dinner</th>\n",
       "      <td>41</td>\n",
       "      <td>29</td>\n",
       "      <td>0.71</td>\n",
       "    </tr>\n",
       "  </tbody>\n",
       "</table>\n",
       "<p>1926 rows × 3 columns</p>\n",
       "</div>"
      ],
      "text/plain": [
       "                                                    order_count  reordered  \\\n",
       "product_name                                                                 \n",
       "Raw Veggie Wrappers                                          68         64   \n",
       "Serenity Ultimate Extrema Overnight Pads                     87         81   \n",
       "Orange Energy Shots                                          13         12   \n",
       "Chocolate Love Bar                                          101         93   \n",
       "Energy Shot, Grape Flavor                                    22         20   \n",
       "...                                                         ...        ...   \n",
       "Double Strength Energy Drink                                201        143   \n",
       "Boost Cherry Energy Drink                                     7          5   \n",
       "Organic Love Crunch Granola Dark Chocolate & Re...         3650       2574   \n",
       "Strawberry Hemp Yogurt                                       14         10   \n",
       "Organic Cheddar Macaroni & Cheese Dinner                     41         29   \n",
       "\n",
       "                                                    reorder_rate  \n",
       "product_name                                                      \n",
       "Raw Veggie Wrappers                                         0.94  \n",
       "Serenity Ultimate Extrema Overnight Pads                    0.93  \n",
       "Orange Energy Shots                                         0.92  \n",
       "Chocolate Love Bar                                          0.92  \n",
       "Energy Shot, Grape Flavor                                   0.91  \n",
       "...                                                          ...  \n",
       "Double Strength Energy Drink                                0.71  \n",
       "Boost Cherry Energy Drink                                   0.71  \n",
       "Organic Love Crunch Granola Dark Chocolate & Re...          0.71  \n",
       "Strawberry Hemp Yogurt                                      0.71  \n",
       "Organic Cheddar Macaroni & Cheese Dinner                    0.71  \n",
       "\n",
       "[1926 rows x 3 columns]"
      ]
     },
     "execution_count": 29,
     "metadata": {},
     "output_type": "execute_result"
    }
   ],
   "source": [
    "high_reorder = group2[group2.reorder_rate>0.70].sort_values('reorder_rate',ascending=False)\n",
    "high_reorder"
   ]
  },
  {
   "cell_type": "code",
   "execution_count": 30,
   "id": "80b43f26",
   "metadata": {},
   "outputs": [],
   "source": [
    "def top_reordered_products(top):\n",
    "    plt.figure(figsize=(12, 8))\n",
    "    sns.barplot(x=high_reorder.reorder_rate[:top], y=high_reorder.index[:top])\n",
    "    plt.xlabel('Reorder probability')\n",
    "    plt.ylabel('Product Name')\n",
    "    plt.title('Product Reordering Probability')\n",
    "    plt.show()"
   ]
  },
  {
   "cell_type": "markdown",
   "id": "7338ae48",
   "metadata": {},
   "source": [
    "# Top 10 Products with highest reorder_rate"
   ]
  },
  {
   "cell_type": "code",
   "execution_count": 31,
   "id": "491690a3",
   "metadata": {},
   "outputs": [
    {
     "data": {
      "image/png": "[encoded data removed]",
      "text/plain": [
       "<Figure size 864x576 with 1 Axes>"
      ]
     },
     "metadata": {
      "needs_background": "light"
     },
     "output_type": "display_data"
    }
   ],
   "source": [
    "top_reordered_products(10)"
   ]
  },
  {
   "cell_type": "markdown",
   "id": "d64b07df",
   "metadata": {},
   "source": [
    "# Top 20 Products with highest reorder_rate"
   ]
  },
  {
   "cell_type": "code",
   "execution_count": 32,
   "id": "f775ce97",
   "metadata": {},
   "outputs": [
    {
     "data": {
      "image/png": "[encoded data removed]",
      "text/plain": [
       "<Figure size 864x576 with 1 Axes>"
      ]
     },
     "metadata": {
      "needs_background": "light"
     },
     "output_type": "display_data"
    }
   ],
   "source": [
    "top_reordered_products(20)"
   ]
  },
  {
   "cell_type": "markdown",
   "id": "79b1edbe",
   "metadata": {},
   "source": [
    "## This helps us understand which products do we need hvae more qunatity wise and also try and make sure they are available in the nearest warehouse"
   ]
  },
  {
   "cell_type": "code",
   "execution_count": null,
   "id": "44875507",
   "metadata": {},
   "outputs": [],
   "source": []
  },
  {
   "cell_type": "code",
   "execution_count": null,
   "id": "ed743628",
   "metadata": {},
   "outputs": [],
   "source": []
  },
  {
   "cell_type": "markdown",
   "id": "6eeec202",
   "metadata": {},
   "source": [
    "# Aisle and Number of Products available in each aisle"
   ]
  },
  {
   "cell_type": "code",
   "execution_count": null,
   "id": "df8729bb",
   "metadata": {},
   "outputs": [],
   "source": []
  },
  {
   "cell_type": "code",
   "execution_count": 55,
   "id": "75f2dd67",
   "metadata": {},
   "outputs": [
    {
     "data": {
      "text/html": [
       "<div>\n",
       "<style scoped>\n",
       "    .dataframe tbody tr th:only-of-type {\n",
       "        vertical-align: middle;\n",
       "    }\n",
       "\n",
       "    .dataframe tbody tr th {\n",
       "        vertical-align: top;\n",
       "    }\n",
       "\n",
       "    .dataframe thead th {\n",
       "        text-align: right;\n",
       "    }\n",
       "</style>\n",
       "<table border=\"1\" class=\"dataframe\">\n",
       "  <thead>\n",
       "    <tr style=\"text-align: right;\">\n",
       "      <th></th>\n",
       "      <th>product_id</th>\n",
       "      <th>product_name</th>\n",
       "      <th>aisle_id</th>\n",
       "      <th>department_id</th>\n",
       "      <th>aisle</th>\n",
       "    </tr>\n",
       "  </thead>\n",
       "  <tbody>\n",
       "    <tr>\n",
       "      <th>0</th>\n",
       "      <td>1</td>\n",
       "      <td>Chocolate Sandwich Cookies</td>\n",
       "      <td>61</td>\n",
       "      <td>19</td>\n",
       "      <td>cookies cakes</td>\n",
       "    </tr>\n",
       "    <tr>\n",
       "      <th>1</th>\n",
       "      <td>78</td>\n",
       "      <td>Nutter Butter Cookie Bites Go-Pak</td>\n",
       "      <td>61</td>\n",
       "      <td>19</td>\n",
       "      <td>cookies cakes</td>\n",
       "    </tr>\n",
       "    <tr>\n",
       "      <th>2</th>\n",
       "      <td>102</td>\n",
       "      <td>Danish Butter Cookies</td>\n",
       "      <td>61</td>\n",
       "      <td>19</td>\n",
       "      <td>cookies cakes</td>\n",
       "    </tr>\n",
       "    <tr>\n",
       "      <th>3</th>\n",
       "      <td>172</td>\n",
       "      <td>Gluten Free All Natural Chocolate Chip Cookies</td>\n",
       "      <td>61</td>\n",
       "      <td>19</td>\n",
       "      <td>cookies cakes</td>\n",
       "    </tr>\n",
       "    <tr>\n",
       "      <th>4</th>\n",
       "      <td>285</td>\n",
       "      <td>Mini Nilla Wafers Munch Pack</td>\n",
       "      <td>61</td>\n",
       "      <td>19</td>\n",
       "      <td>cookies cakes</td>\n",
       "    </tr>\n",
       "    <tr>\n",
       "      <th>...</th>\n",
       "      <td>...</td>\n",
       "      <td>...</td>\n",
       "      <td>...</td>\n",
       "      <td>...</td>\n",
       "      <td>...</td>\n",
       "    </tr>\n",
       "    <tr>\n",
       "      <th>49683</th>\n",
       "      <td>47769</td>\n",
       "      <td>Peas and Potatoe Roti Paratha</td>\n",
       "      <td>76</td>\n",
       "      <td>6</td>\n",
       "      <td>indian foods</td>\n",
       "    </tr>\n",
       "    <tr>\n",
       "      <th>49684</th>\n",
       "      <td>48292</td>\n",
       "      <td>Punjabi Chhole Chickpeas with Potatoes &amp; Onions</td>\n",
       "      <td>76</td>\n",
       "      <td>6</td>\n",
       "      <td>indian foods</td>\n",
       "    </tr>\n",
       "    <tr>\n",
       "      <th>49685</th>\n",
       "      <td>48480</td>\n",
       "      <td>Punjab Eggplant</td>\n",
       "      <td>76</td>\n",
       "      <td>6</td>\n",
       "      <td>indian foods</td>\n",
       "    </tr>\n",
       "    <tr>\n",
       "      <th>49686</th>\n",
       "      <td>48830</td>\n",
       "      <td>Pav Bhaji Mashed Vegetable Curry</td>\n",
       "      <td>76</td>\n",
       "      <td>6</td>\n",
       "      <td>indian foods</td>\n",
       "    </tr>\n",
       "    <tr>\n",
       "      <th>49687</th>\n",
       "      <td>49278</td>\n",
       "      <td>Channa Masala Chickpea Curry</td>\n",
       "      <td>76</td>\n",
       "      <td>6</td>\n",
       "      <td>indian foods</td>\n",
       "    </tr>\n",
       "  </tbody>\n",
       "</table>\n",
       "<p>49688 rows × 5 columns</p>\n",
       "</div>"
      ],
      "text/plain": [
       "       product_id                                     product_name  aisle_id  \\\n",
       "0               1                       Chocolate Sandwich Cookies        61   \n",
       "1              78                Nutter Butter Cookie Bites Go-Pak        61   \n",
       "2             102                            Danish Butter Cookies        61   \n",
       "3             172   Gluten Free All Natural Chocolate Chip Cookies        61   \n",
       "4             285                     Mini Nilla Wafers Munch Pack        61   \n",
       "...           ...                                              ...       ...   \n",
       "49683       47769                    Peas and Potatoe Roti Paratha        76   \n",
       "49684       48292  Punjabi Chhole Chickpeas with Potatoes & Onions        76   \n",
       "49685       48480                                  Punjab Eggplant        76   \n",
       "49686       48830                 Pav Bhaji Mashed Vegetable Curry        76   \n",
       "49687       49278                     Channa Masala Chickpea Curry        76   \n",
       "\n",
       "       department_id          aisle  \n",
       "0                 19  cookies cakes  \n",
       "1                 19  cookies cakes  \n",
       "2                 19  cookies cakes  \n",
       "3                 19  cookies cakes  \n",
       "4                 19  cookies cakes  \n",
       "...              ...            ...  \n",
       "49683              6   indian foods  \n",
       "49684              6   indian foods  \n",
       "49685              6   indian foods  \n",
       "49686              6   indian foods  \n",
       "49687              6   indian foods  \n",
       "\n",
       "[49688 rows x 5 columns]"
      ]
     },
     "execution_count": 55,
     "metadata": {},
     "output_type": "execute_result"
    }
   ],
   "source": [
    "aisles_info = pd.merge(products,aisles,on='aisle_id')\n",
    "aisles_info"
   ]
  },
  {
   "cell_type": "code",
   "execution_count": 57,
   "id": "064e6907",
   "metadata": {},
   "outputs": [
    {
     "data": {
      "text/plain": [
       "aisle\n",
       "air fresheners candles            355\n",
       "asian foods                       605\n",
       "baby accessories                   44\n",
       "baby bath body care               132\n",
       "baby food formula                 718\n",
       "                                 ... \n",
       "trash bags liners                 112\n",
       "vitamins supplements             1038\n",
       "water seltzer sparkling water     344\n",
       "white wines                       147\n",
       "yogurt                           1026\n",
       "Name: product_id, Length: 134, dtype: int64"
      ]
     },
     "execution_count": 57,
     "metadata": {},
     "output_type": "execute_result"
    }
   ],
   "source": [
    "aisles_info_grp = aisles_info.groupby('aisle')['product_id'].aggregate('count')\n",
    "aisles_info_grp"
   ]
  },
  {
   "cell_type": "code",
   "execution_count": 60,
   "id": "6464e472",
   "metadata": {},
   "outputs": [
    {
     "data": {
      "text/plain": [
       "aisle\n",
       "missing                 1258\n",
       "candy chocolate         1246\n",
       "ice cream ice           1091\n",
       "vitamins supplements    1038\n",
       "yogurt                  1026\n",
       "chips pretzels           989\n",
       "tea                      894\n",
       "packaged cheese          891\n",
       "frozen meals             880\n",
       "cookies cakes            874\n",
       "Name: product_id, dtype: int64"
      ]
     },
     "execution_count": 60,
     "metadata": {},
     "output_type": "execute_result"
    }
   ],
   "source": [
    "aisles_info_grp.sort_values(ascending=False).head(10)"
   ]
  },
  {
   "cell_type": "markdown",
   "id": "54f43121",
   "metadata": {},
   "source": [
    "## The above table helps us understand which aisles we can keep an eye on to check if they need any restocking"
   ]
  },
  {
   "cell_type": "code",
   "execution_count": null,
   "id": "7fec88e7",
   "metadata": {},
   "outputs": [],
   "source": []
  },
  {
   "cell_type": "code",
   "execution_count": null,
   "id": "f6a1b30f",
   "metadata": {},
   "outputs": [],
   "source": []
  },
  {
   "cell_type": "markdown",
   "id": "51aeaf4e",
   "metadata": {},
   "source": [
    "# Department and Number of Products available in each department"
   ]
  },
  {
   "cell_type": "code",
   "execution_count": 85,
   "id": "8b8cc3e2",
   "metadata": {},
   "outputs": [
    {
     "data": {
      "text/html": [
       "<div>\n",
       "<style scoped>\n",
       "    .dataframe tbody tr th:only-of-type {\n",
       "        vertical-align: middle;\n",
       "    }\n",
       "\n",
       "    .dataframe tbody tr th {\n",
       "        vertical-align: top;\n",
       "    }\n",
       "\n",
       "    .dataframe thead th {\n",
       "        text-align: right;\n",
       "    }\n",
       "</style>\n",
       "<table border=\"1\" class=\"dataframe\">\n",
       "  <thead>\n",
       "    <tr style=\"text-align: right;\">\n",
       "      <th></th>\n",
       "      <th>product_id</th>\n",
       "      <th>product_name</th>\n",
       "      <th>aisle_id</th>\n",
       "      <th>department_id</th>\n",
       "      <th>department</th>\n",
       "    </tr>\n",
       "  </thead>\n",
       "  <tbody>\n",
       "    <tr>\n",
       "      <th>0</th>\n",
       "      <td>1</td>\n",
       "      <td>Chocolate Sandwich Cookies</td>\n",
       "      <td>61</td>\n",
       "      <td>19</td>\n",
       "      <td>snacks</td>\n",
       "    </tr>\n",
       "    <tr>\n",
       "      <th>1</th>\n",
       "      <td>2</td>\n",
       "      <td>All-Seasons Salt</td>\n",
       "      <td>104</td>\n",
       "      <td>13</td>\n",
       "      <td>pantry</td>\n",
       "    </tr>\n",
       "    <tr>\n",
       "      <th>2</th>\n",
       "      <td>3</td>\n",
       "      <td>Robust Golden Unsweetened Oolong Tea</td>\n",
       "      <td>94</td>\n",
       "      <td>7</td>\n",
       "      <td>beverages</td>\n",
       "    </tr>\n",
       "    <tr>\n",
       "      <th>3</th>\n",
       "      <td>4</td>\n",
       "      <td>Smart Ones Classic Favorites Mini Rigatoni Wit...</td>\n",
       "      <td>38</td>\n",
       "      <td>1</td>\n",
       "      <td>frozen</td>\n",
       "    </tr>\n",
       "    <tr>\n",
       "      <th>4</th>\n",
       "      <td>5</td>\n",
       "      <td>Green Chile Anytime Sauce</td>\n",
       "      <td>5</td>\n",
       "      <td>13</td>\n",
       "      <td>pantry</td>\n",
       "    </tr>\n",
       "  </tbody>\n",
       "</table>\n",
       "</div>"
      ],
      "text/plain": [
       "   product_id                                       product_name  aisle_id  \\\n",
       "0           1                         Chocolate Sandwich Cookies        61   \n",
       "1           2                                   All-Seasons Salt       104   \n",
       "2           3               Robust Golden Unsweetened Oolong Tea        94   \n",
       "3           4  Smart Ones Classic Favorites Mini Rigatoni Wit...        38   \n",
       "4           5                          Green Chile Anytime Sauce         5   \n",
       "\n",
       "   department_id department  \n",
       "0             19     snacks  \n",
       "1             13     pantry  \n",
       "2              7  beverages  \n",
       "3              1     frozen  \n",
       "4             13     pantry  "
      ]
     },
     "execution_count": 85,
     "metadata": {},
     "output_type": "execute_result"
    }
   ],
   "source": [
    "dept_info = pd.merge(left=products, right=dept, how='left')\n",
    "dept_info.head()"
   ]
  },
  {
   "cell_type": "code",
   "execution_count": 86,
   "id": "75312c60",
   "metadata": {},
   "outputs": [
    {
     "data": {
      "text/plain": [
       "department\n",
       "personal care      6563\n",
       "snacks             6264\n",
       "pantry             5371\n",
       "beverages          4365\n",
       "frozen             4007\n",
       "dairy eggs         3449\n",
       "household          3085\n",
       "canned goods       2092\n",
       "dry goods pasta    1858\n",
       "produce            1684\n",
       "bakery             1516\n",
       "deli               1322\n",
       "missing            1258\n",
       "international      1139\n",
       "breakfast          1115\n",
       "babies             1081\n",
       "alcohol            1054\n",
       "pets                972\n",
       "meat seafood        907\n",
       "other               548\n",
       "bulk                 38\n",
       "Name: product_id, dtype: int64"
      ]
     },
     "execution_count": 86,
     "metadata": {},
     "output_type": "execute_result"
    }
   ],
   "source": [
    "dept_info = dept_info.groupby('department')['product_id'].aggregate('count').sort_values(ascending=False)\n",
    "dept_info"
   ]
  },
  {
   "cell_type": "code",
   "execution_count": 90,
   "id": "fedfde6c",
   "metadata": {},
   "outputs": [
    {
     "data": {
      "text/plain": [
       "array([6563, 6264, 5371, 4365, 4007, 3449, 3085, 2092, 1858, 1684, 1516,\n",
       "       1322, 1258, 1139, 1115, 1081, 1054,  972,  907,  548,   38],\n",
       "      dtype=int64)"
      ]
     },
     "execution_count": 90,
     "metadata": {},
     "output_type": "execute_result"
    }
   ],
   "source": [
    "dept_info.values"
   ]
  },
  {
   "cell_type": "code",
   "execution_count": 97,
   "id": "36d9a0e7",
   "metadata": {},
   "outputs": [
    {
     "name": "stderr",
     "output_type": "stream",
     "text": [
      "c:\\programdata\\anaconda3\\lib\\site-packages\\seaborn\\_decorators.py:43: FutureWarning: Pass the following variables as keyword args: x, y. From version 0.12, the only valid positional argument will be `data`, and passing other arguments without an explicit keyword will result in an error or misinterpretation.\n",
      "  FutureWarning\n"
     ]
    },
    {
     "data": {
      "image/png": "[encoded data removed]",
      "text/plain": [
       "<Figure size 1512x1080 with 1 Axes>"
      ]
     },
     "metadata": {},
     "output_type": "display_data"
    }
   ],
   "source": [
    "sns.set_style(\"darkgrid\")\n",
    "f, ax = plt.subplots(figsize=(21, 15))\n",
    "plt.xticks(rotation='vertical',fontsize=20)\n",
    "plt.yticks(fontsize=20)\n",
    "sns.barplot(dept_info.index, dept_info.values)\n",
    "plt.ylabel('Number of products', fontsize=25)\n",
    "plt.xlabel('Departments', fontsize=25)\n",
    "plt.show()"
   ]
  },
  {
   "cell_type": "markdown",
   "id": "4c7adc96",
   "metadata": {},
   "source": [
    "## Based on the above plot we can see that personal care, food and beverages departments consists of products that are being order most often."
   ]
  },
  {
   "cell_type": "code",
   "execution_count": null,
   "id": "793ec55d",
   "metadata": {},
   "outputs": [],
   "source": []
  },
  {
   "cell_type": "code",
   "execution_count": 118,
   "id": "f182f93b",
   "metadata": {},
   "outputs": [
    {
     "data": {
      "text/plain": [
       "'done'"
      ]
     },
     "execution_count": 118,
     "metadata": {},
     "output_type": "execute_result"
    }
   ],
   "source": [
    "\"Done\".lower()"
   ]
  },
  {
   "cell_type": "markdown",
   "id": "9e379968",
   "metadata": {},
   "source": [
    "# Lets explore the food section to see if people are ordering organic food or inorganic food more often."
   ]
  },
  {
   "cell_type": "markdown",
   "id": "8f5fe395",
   "metadata": {},
   "source": [
    "## We will find all the products that contains organic in the name to find organic food"
   ]
  },
  {
   "cell_type": "code",
   "execution_count": 128,
   "id": "4e72a2c4",
   "metadata": {},
   "outputs": [],
   "source": [
    "organic = products[products['product_name'].str.lower().str.contains('organic')]\n",
    "non_organic = products[~products['product_name'].str.lower().str.contains('organic', case=False)]"
   ]
  },
  {
   "cell_type": "code",
   "execution_count": 152,
   "id": "bd7f5a18",
   "metadata": {},
   "outputs": [],
   "source": [
    "organic_count = len(organic)\n",
    "non_organic_count = len(non_organic)\n",
    "\n",
    "\n",
    "organic['Key'] = 'organic'\n",
    "non_organic['Key'] = 'non-organic'\n",
    "\n",
    "foods = pd.merge(organic.iloc[:,[0,-1]],non_organic.iloc[:,[0,-1]],how = 'outer', on='product_id')\n",
    "foods.drop('product_id',axis=1,inplace=True)\n",
    "foods.rename(columns={'Key_x':'Organic','Key_y':'Non_Organic'},inplace=True)\n",
    "foods= foods.count()"
   ]
  },
  {
   "cell_type": "code",
   "execution_count": 157,
   "id": "e68b1ea8",
   "metadata": {},
   "outputs": [
    {
     "name": "stdout",
     "output_type": "stream",
     "text": [
      "10.14 89.86\n"
     ]
    }
   ],
   "source": [
    "organic = round(foods.Organic/(foods.Organic+foods.Non_Organic)*100,2)\n",
    "non_organic = round(foods.Non_Organic/(foods.Organic+foods.Non_Organic)*100,2)\n",
    "print(organic,non_organic)"
   ]
  },
  {
   "cell_type": "code",
   "execution_count": 179,
   "id": "31801fd3",
   "metadata": {},
   "outputs": [
    {
     "data": {
      "text/html": [
       "<div>\n",
       "<style scoped>\n",
       "    .dataframe tbody tr th:only-of-type {\n",
       "        vertical-align: middle;\n",
       "    }\n",
       "\n",
       "    .dataframe tbody tr th {\n",
       "        vertical-align: top;\n",
       "    }\n",
       "\n",
       "    .dataframe thead th {\n",
       "        text-align: right;\n",
       "    }\n",
       "</style>\n",
       "<table border=\"1\" class=\"dataframe\">\n",
       "  <thead>\n",
       "    <tr style=\"text-align: right;\">\n",
       "      <th></th>\n",
       "      <th>Organic</th>\n",
       "      <th>Non_Organic</th>\n",
       "    </tr>\n",
       "  </thead>\n",
       "  <tbody>\n",
       "    <tr>\n",
       "      <th>0</th>\n",
       "      <td>10.14</td>\n",
       "      <td>89.86</td>\n",
       "    </tr>\n",
       "  </tbody>\n",
       "</table>\n",
       "</div>"
      ],
      "text/plain": [
       "   Organic  Non_Organic\n",
       "0    10.14        89.86"
      ]
     },
     "execution_count": 179,
     "metadata": {},
     "output_type": "execute_result"
    }
   ],
   "source": [
    "data = {'Organic':[organic],'Non_Organic':[non_organic]}\n",
    "food = pd.DataFrame(data ,columns = ['Organic','Non_Organic'])\n",
    "food"
   ]
  },
  {
   "cell_type": "code",
   "execution_count": 181,
   "id": "120bc4e0",
   "metadata": {},
   "outputs": [
    {
     "data": {
      "image/png": "[encoded data removed]",
      "text/plain": [
       "<Figure size 432x288 with 1 Axes>"
      ]
     },
     "metadata": {},
     "output_type": "display_data"
    }
   ],
   "source": [
    "food.T.plot(kind='bar')\n",
    "plt.show()"
   ]
  },
  {
   "cell_type": "code",
   "execution_count": null,
   "id": "305efd40",
   "metadata": {},
   "outputs": [],
   "source": []
  },
  {
   "cell_type": "code",
   "execution_count": null,
   "id": "f990ee77",
   "metadata": {},
   "outputs": [],
   "source": []
  },
  {
   "cell_type": "code",
   "execution_count": null,
   "id": "aaec17ab",
   "metadata": {},
   "outputs": [],
   "source": []
  },
  {
   "cell_type": "markdown",
   "id": "b9feb0a8",
   "metadata": {},
   "source": [
    "# Common Number of Products in an Order\n",
    "### The number of times people of ordered x number of products in an order"
   ]
  },
  {
   "cell_type": "code",
   "execution_count": null,
   "id": "2bb86f51",
   "metadata": {},
   "outputs": [],
   "source": []
  },
  {
   "cell_type": "code",
   "execution_count": 36,
   "id": "5603dbfa",
   "metadata": {},
   "outputs": [],
   "source": [
    "user_group = orders.groupby('user_id')['order_id'].apply(lambda x: len(x.unique())).reset_index()\n",
    "# user_group = user_group.groupby('user_id_id').aggregate(\"count\")\n",
    "user_group.rename(columns={'order_id':'number_of_orders'},inplace=True)"
   ]
  },
  {
   "cell_type": "code",
   "execution_count": 42,
   "id": "33503b15",
   "metadata": {},
   "outputs": [
    {
     "data": {
      "text/html": [
       "<div>\n",
       "<style scoped>\n",
       "    .dataframe tbody tr th:only-of-type {\n",
       "        vertical-align: middle;\n",
       "    }\n",
       "\n",
       "    .dataframe tbody tr th {\n",
       "        vertical-align: top;\n",
       "    }\n",
       "\n",
       "    .dataframe thead th {\n",
       "        text-align: right;\n",
       "    }\n",
       "</style>\n",
       "<table border=\"1\" class=\"dataframe\">\n",
       "  <thead>\n",
       "    <tr style=\"text-align: right;\">\n",
       "      <th></th>\n",
       "      <th>count_of_people</th>\n",
       "    </tr>\n",
       "    <tr>\n",
       "      <th>number_of_orders</th>\n",
       "      <th></th>\n",
       "    </tr>\n",
       "  </thead>\n",
       "  <tbody>\n",
       "    <tr>\n",
       "      <th>4</th>\n",
       "      <td>23986</td>\n",
       "    </tr>\n",
       "    <tr>\n",
       "      <th>5</th>\n",
       "      <td>19590</td>\n",
       "    </tr>\n",
       "    <tr>\n",
       "      <th>6</th>\n",
       "      <td>16165</td>\n",
       "    </tr>\n",
       "    <tr>\n",
       "      <th>7</th>\n",
       "      <td>13850</td>\n",
       "    </tr>\n",
       "    <tr>\n",
       "      <th>8</th>\n",
       "      <td>11700</td>\n",
       "    </tr>\n",
       "    <tr>\n",
       "      <th>...</th>\n",
       "      <td>...</td>\n",
       "    </tr>\n",
       "    <tr>\n",
       "      <th>96</th>\n",
       "      <td>67</td>\n",
       "    </tr>\n",
       "    <tr>\n",
       "      <th>97</th>\n",
       "      <td>54</td>\n",
       "    </tr>\n",
       "    <tr>\n",
       "      <th>98</th>\n",
       "      <td>50</td>\n",
       "    </tr>\n",
       "    <tr>\n",
       "      <th>99</th>\n",
       "      <td>47</td>\n",
       "    </tr>\n",
       "    <tr>\n",
       "      <th>100</th>\n",
       "      <td>1374</td>\n",
       "    </tr>\n",
       "  </tbody>\n",
       "</table>\n",
       "<p>97 rows × 1 columns</p>\n",
       "</div>"
      ],
      "text/plain": [
       "                  count_of_people\n",
       "number_of_orders                 \n",
       "4                           23986\n",
       "5                           19590\n",
       "6                           16165\n",
       "7                           13850\n",
       "8                           11700\n",
       "...                           ...\n",
       "96                             67\n",
       "97                             54\n",
       "98                             50\n",
       "99                             47\n",
       "100                          1374\n",
       "\n",
       "[97 rows x 1 columns]"
      ]
     },
     "execution_count": 42,
     "metadata": {},
     "output_type": "execute_result"
    }
   ],
   "source": [
    "order_count = user_group.groupby('number_of_orders').aggregate('count')\n",
    "order_count.rename(columns={'user_id':'count_of_people'},inplace=True)\n",
    "order_count"
   ]
  },
  {
   "cell_type": "code",
   "execution_count": 41,
   "id": "1133b870",
   "metadata": {},
   "outputs": [
    {
     "name": "stderr",
     "output_type": "stream",
     "text": [
      "c:\\programdata\\anaconda3\\lib\\site-packages\\seaborn\\_decorators.py:43: FutureWarning: Pass the following variables as keyword args: x, y. From version 0.12, the only valid positional argument will be `data`, and passing other arguments without an explicit keyword will result in an error or misinterpretation.\n",
      "  FutureWarning\n"
     ]
    },
    {
     "data": {
      "image/png": "[encoded data removed]",
      "text/plain": [
       "<Figure size 1080x864 with 1 Axes>"
      ]
     },
     "metadata": {},
     "output_type": "display_data"
    }
   ],
   "source": [
    "sns.set_style(\"whitegrid\")\n",
    "f, ax = plt.subplots(figsize=(15, 12))\n",
    "sns.barplot(order_count.index, order_count.count_of_people)\n",
    "plt.ylabel('Numbers of Customers')\n",
    "plt.xlabel('Number of Orders per customer')\n",
    "plt.xticks(rotation='vertical')\n",
    "plt.show()"
   ]
  },
  {
   "cell_type": "markdown",
   "id": "be43c252",
   "metadata": {},
   "source": [
    "## The number of products in each order is usually around 4-20 where 4-9 are the most common and the number of products ordered are between 4-9 around 50% of the times."
   ]
  },
  {
   "cell_type": "code",
   "execution_count": 51,
   "id": "f40b4600",
   "metadata": {},
   "outputs": [
    {
     "data": {
      "text/plain": [
       "0.46303022661474524"
      ]
     },
     "execution_count": 51,
     "metadata": {},
     "output_type": "execute_result"
    }
   ],
   "source": [
    "sum(order_count['count_of_people'][:6])/sum(order_count['count_of_people'])"
   ]
  },
  {
   "cell_type": "code",
   "execution_count": null,
   "id": "672c488d",
   "metadata": {},
   "outputs": [],
   "source": []
  },
  {
   "cell_type": "code",
   "execution_count": null,
   "id": "52b78b3e",
   "metadata": {},
   "outputs": [],
   "source": []
  },
  {
   "cell_type": "code",
   "execution_count": null,
   "id": "eb2eecda",
   "metadata": {},
   "outputs": [],
   "source": []
  },
  {
   "cell_type": "markdown",
   "id": "88edfdcc",
   "metadata": {},
   "source": [
    "# Most frequently ordered products Vs Number of orders containing these products."
   ]
  },
  {
   "cell_type": "code",
   "execution_count": 182,
   "id": "f475a892",
   "metadata": {},
   "outputs": [],
   "source": [
    "goods = pd.merge(left=pd.merge(left=products, right=dept, how='left'), right=aisles, how='left')\n",
    "# to retain '-' and make product names more \"standard\"\n",
    "goods.product_name = goods.product_name.str.replace(' ', '_').str.lower()"
   ]
  },
  {
   "cell_type": "code",
   "execution_count": 183,
   "id": "0973f47b",
   "metadata": {},
   "outputs": [
    {
     "data": {
      "text/html": [
       "<div>\n",
       "<style scoped>\n",
       "    .dataframe tbody tr th:only-of-type {\n",
       "        vertical-align: middle;\n",
       "    }\n",
       "\n",
       "    .dataframe tbody tr th {\n",
       "        vertical-align: top;\n",
       "    }\n",
       "\n",
       "    .dataframe thead th {\n",
       "        text-align: right;\n",
       "    }\n",
       "</style>\n",
       "<table border=\"1\" class=\"dataframe\">\n",
       "  <thead>\n",
       "    <tr style=\"text-align: right;\">\n",
       "      <th></th>\n",
       "      <th>product_id</th>\n",
       "      <th>product_name</th>\n",
       "      <th>aisle_id</th>\n",
       "      <th>department_id</th>\n",
       "      <th>department</th>\n",
       "      <th>aisle</th>\n",
       "    </tr>\n",
       "  </thead>\n",
       "  <tbody>\n",
       "    <tr>\n",
       "      <th>0</th>\n",
       "      <td>1</td>\n",
       "      <td>chocolate_sandwich_cookies</td>\n",
       "      <td>61</td>\n",
       "      <td>19</td>\n",
       "      <td>snacks</td>\n",
       "      <td>cookies cakes</td>\n",
       "    </tr>\n",
       "    <tr>\n",
       "      <th>1</th>\n",
       "      <td>2</td>\n",
       "      <td>all-seasons_salt</td>\n",
       "      <td>104</td>\n",
       "      <td>13</td>\n",
       "      <td>pantry</td>\n",
       "      <td>spices seasonings</td>\n",
       "    </tr>\n",
       "    <tr>\n",
       "      <th>2</th>\n",
       "      <td>3</td>\n",
       "      <td>robust_golden_unsweetened_oolong_tea</td>\n",
       "      <td>94</td>\n",
       "      <td>7</td>\n",
       "      <td>beverages</td>\n",
       "      <td>tea</td>\n",
       "    </tr>\n",
       "    <tr>\n",
       "      <th>3</th>\n",
       "      <td>4</td>\n",
       "      <td>smart_ones_classic_favorites_mini_rigatoni_wit...</td>\n",
       "      <td>38</td>\n",
       "      <td>1</td>\n",
       "      <td>frozen</td>\n",
       "      <td>frozen meals</td>\n",
       "    </tr>\n",
       "    <tr>\n",
       "      <th>4</th>\n",
       "      <td>5</td>\n",
       "      <td>green_chile_anytime_sauce</td>\n",
       "      <td>5</td>\n",
       "      <td>13</td>\n",
       "      <td>pantry</td>\n",
       "      <td>marinades meat preparation</td>\n",
       "    </tr>\n",
       "    <tr>\n",
       "      <th>...</th>\n",
       "      <td>...</td>\n",
       "      <td>...</td>\n",
       "      <td>...</td>\n",
       "      <td>...</td>\n",
       "      <td>...</td>\n",
       "      <td>...</td>\n",
       "    </tr>\n",
       "    <tr>\n",
       "      <th>49683</th>\n",
       "      <td>49684</td>\n",
       "      <td>vodka,_triple_distilled,_twist_of_vanilla</td>\n",
       "      <td>124</td>\n",
       "      <td>5</td>\n",
       "      <td>alcohol</td>\n",
       "      <td>spirits</td>\n",
       "    </tr>\n",
       "    <tr>\n",
       "      <th>49684</th>\n",
       "      <td>49685</td>\n",
       "      <td>en_croute_roast_hazelnut_cranberry</td>\n",
       "      <td>42</td>\n",
       "      <td>1</td>\n",
       "      <td>frozen</td>\n",
       "      <td>frozen vegan vegetarian</td>\n",
       "    </tr>\n",
       "    <tr>\n",
       "      <th>49685</th>\n",
       "      <td>49686</td>\n",
       "      <td>artisan_baguette</td>\n",
       "      <td>112</td>\n",
       "      <td>3</td>\n",
       "      <td>bakery</td>\n",
       "      <td>bread</td>\n",
       "    </tr>\n",
       "    <tr>\n",
       "      <th>49686</th>\n",
       "      <td>49687</td>\n",
       "      <td>smartblend_healthy_metabolism_dry_cat_food</td>\n",
       "      <td>41</td>\n",
       "      <td>8</td>\n",
       "      <td>pets</td>\n",
       "      <td>cat food care</td>\n",
       "    </tr>\n",
       "    <tr>\n",
       "      <th>49687</th>\n",
       "      <td>49688</td>\n",
       "      <td>fresh_foaming_cleanser</td>\n",
       "      <td>73</td>\n",
       "      <td>11</td>\n",
       "      <td>personal care</td>\n",
       "      <td>facial care</td>\n",
       "    </tr>\n",
       "  </tbody>\n",
       "</table>\n",
       "<p>49688 rows × 6 columns</p>\n",
       "</div>"
      ],
      "text/plain": [
       "       product_id                                       product_name  \\\n",
       "0               1                         chocolate_sandwich_cookies   \n",
       "1               2                                   all-seasons_salt   \n",
       "2               3               robust_golden_unsweetened_oolong_tea   \n",
       "3               4  smart_ones_classic_favorites_mini_rigatoni_wit...   \n",
       "4               5                          green_chile_anytime_sauce   \n",
       "...           ...                                                ...   \n",
       "49683       49684          vodka,_triple_distilled,_twist_of_vanilla   \n",
       "49684       49685                 en_croute_roast_hazelnut_cranberry   \n",
       "49685       49686                                   artisan_baguette   \n",
       "49686       49687         smartblend_healthy_metabolism_dry_cat_food   \n",
       "49687       49688                             fresh_foaming_cleanser   \n",
       "\n",
       "       aisle_id  department_id     department                       aisle  \n",
       "0            61             19         snacks               cookies cakes  \n",
       "1           104             13         pantry           spices seasonings  \n",
       "2            94              7      beverages                         tea  \n",
       "3            38              1         frozen                frozen meals  \n",
       "4             5             13         pantry  marinades meat preparation  \n",
       "...         ...            ...            ...                         ...  \n",
       "49683       124              5        alcohol                     spirits  \n",
       "49684        42              1         frozen     frozen vegan vegetarian  \n",
       "49685       112              3         bakery                       bread  \n",
       "49686        41              8           pets               cat food care  \n",
       "49687        73             11  personal care                 facial care  \n",
       "\n",
       "[49688 rows x 6 columns]"
      ]
     },
     "execution_count": 183,
     "metadata": {},
     "output_type": "execute_result"
    }
   ],
   "source": [
    "goods"
   ]
  },
  {
   "cell_type": "code",
   "execution_count": 186,
   "id": "ab6b31a7",
   "metadata": {},
   "outputs": [
    {
     "name": "stdout",
     "output_type": "stream",
     "text": [
      "Wall time: 4.47 s\n"
     ]
    },
    {
     "name": "stderr",
     "output_type": "stream",
     "text": [
      "c:\\programdata\\anaconda3\\lib\\site-packages\\seaborn\\_decorators.py:43: FutureWarning: Pass the following variables as keyword args: x, y. From version 0.12, the only valid positional argument will be `data`, and passing other arguments without an explicit keyword will result in an error or misinterpretation.\n",
      "  FutureWarning\n"
     ]
    },
    {
     "data": {
      "text/plain": [
       "Text(0.5, 0, 'Product Name')"
      ]
     },
     "execution_count": 186,
     "metadata": {},
     "output_type": "execute_result"
    },
    {
     "data": {
      "image/png": "[encoded data removed]",
      "text/plain": [
       "<Figure size 864x720 with 1 Axes>"
      ]
     },
     "metadata": {},
     "output_type": "display_data"
    }
   ],
   "source": [
    "%%time\n",
    "# popular products (total set, not only train)\n",
    "top = 15\n",
    "top_products = pd.merge(\n",
    "    # to see train: \n",
    "    # left=pd.DataFrame(order_details[order_details.eval_set == 'train'].groupby(['product_id'])['order_id']\\\n",
    "    left=pd.DataFrame(product_info.groupby(['product_id'])['order_id']\\\n",
    "    .apply(lambda x: len(x.unique())).sort_values(ascending=False)[:top].reset_index('product_id')),\n",
    "    right=goods,\n",
    "    how='left')\n",
    "\n",
    "f, ax = plt.subplots(figsize=(12, 10))\n",
    "plt.xticks(rotation='vertical')\n",
    "sns.barplot(top_products.product_name, top_products.order_id)\n",
    "plt.ylabel('Number of Orders, Containing This Product')\n",
    "plt.xlabel('Product Name')"
   ]
  },
  {
   "cell_type": "code",
   "execution_count": null,
   "id": "57b870be",
   "metadata": {},
   "outputs": [],
   "source": []
  },
  {
   "cell_type": "code",
   "execution_count": null,
   "id": "7d45b35b",
   "metadata": {},
   "outputs": [],
   "source": []
  },
  {
   "cell_type": "markdown",
   "id": "dfa86f3a",
   "metadata": {},
   "source": [
    "# Number of Orders Vs Number of products in an order."
   ]
  },
  {
   "cell_type": "code",
   "execution_count": 187,
   "id": "64abd45e",
   "metadata": {},
   "outputs": [
    {
     "name": "stdout",
     "output_type": "stream",
     "text": [
      "Most common order contains: 5 products\n"
     ]
    },
    {
     "name": "stderr",
     "output_type": "stream",
     "text": [
      "c:\\programdata\\anaconda3\\lib\\site-packages\\seaborn\\_decorators.py:43: FutureWarning: Pass the following variables as keyword args: x, y. From version 0.12, the only valid positional argument will be `data`, and passing other arguments without an explicit keyword will result in an error or misinterpretation.\n",
      "  FutureWarning\n"
     ]
    },
    {
     "data": {
      "text/plain": [
       "(0.0, 50.0)"
      ]
     },
     "execution_count": 187,
     "metadata": {},
     "output_type": "execute_result"
    },
    {
     "data": {
      "image/png": "[encoded data removed]",
      "text/plain": [
       "<Figure size 864x576 with 1 Axes>"
      ]
     },
     "metadata": {},
     "output_type": "display_data"
    }
   ],
   "source": [
    "ord_by_prods = product_info.groupby(\"order_id\")[\"add_to_cart_order\"]\\\n",
    ".aggregate(np.max).reset_index()['add_to_cart_order'].value_counts()\n",
    "\n",
    "print('Most common order contains: {} products'.format(\n",
    "    ord_by_prods[ord_by_prods.values == ord_by_prods.max()].index.values[0]))\n",
    "\n",
    "# plot it\n",
    "plt.figure(figsize=(12, 8))\n",
    "plt.xticks(rotation='vertical')\n",
    "sns.barplot(ord_by_prods.index, ord_by_prods.values)\n",
    "plt.ylabel('Number of Orders')\n",
    "plt.xlabel('Number of Products in Order')\n",
    "plt.xlim([0, 50])"
   ]
  },
  {
   "cell_type": "code",
   "execution_count": null,
   "id": "cc0584a5",
   "metadata": {},
   "outputs": [],
   "source": []
  }
 ],
 "metadata": {
  "kernelspec": {
   "display_name": "Python 3 (ipykernel)",
   "language": "python",
   "name": "python3"
  },
  "language_info": {
   "codemirror_mode": {
    "name": "ipython",
    "version": 3
   },
   "file_extension": ".py",
   "mimetype": "text/x-python",
   "name": "python",
   "nbconvert_exporter": "python",
   "pygments_lexer": "ipython3",
   "version": "3.7.10"
  }
 },
 "nbformat": 4,
 "nbformat_minor": 5
}
